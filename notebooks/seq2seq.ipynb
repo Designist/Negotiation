{
 "cells": [
  {
   "cell_type": "markdown",
   "metadata": {},
   "source": [
    "Basic seq2seq model with Tensorflow\n",
    "======================"
   ]
  },
  {
   "cell_type": "code",
   "execution_count": 2,
   "metadata": {},
   "outputs": [],
   "source": [
    "__author__ = 'Nicholas Tomlin'\n",
    "__version__ = \"CSLI Summer 2018 internship\""
   ]
  },
  {
   "cell_type": "markdown",
   "metadata": {},
   "source": [
    "### Imports \n",
    "Tested with Tensorflow 1.8.0. Using the Dense layer for seq2seq inference decoder, which will be described below. We'll need to add the `src/models/` file to our Python path to import the base RNN model."
   ]
  },
  {
   "cell_type": "code",
   "execution_count": 4,
   "metadata": {},
   "outputs": [],
   "source": [
    "import numpy as np\n",
    "import tensorflow as tf\n",
    "import warnings\n",
    "import random\n",
    "from tensorflow.python.layers.core import Dense"
   ]
  },
  {
   "cell_type": "code",
   "execution_count": 7,
   "metadata": {},
   "outputs": [],
   "source": [
    "import sys\n",
    "sys.path.append('../src/models/')\n",
    "from tf_rnn_classifier import TfRNNClassifier"
   ]
  },
  {
   "cell_type": "markdown",
   "metadata": {},
   "source": [
    "### Basic seq2seq class definition\n",
    "We build a single graph which includes embeddings, encoding, and two separate decoding functions. One decoding function is used during training, and the other is used for inference (prediction). "
   ]
  },
  {
   "cell_type": "code",
   "execution_count": 10,
   "metadata": {},
   "outputs": [],
   "source": [
    "class TfEncoderDecoder(TfRNNClassifier):\n",
    "    def __init__(self, max_input_length=5, max_output_length=5, num_layers=2, **kwargs):\n",
    "        self.max_input_length = max_input_length\n",
    "        self.max_output_length = max_output_length\n",
    "        self.num_layers = num_layers\n",
    "\n",
    "        super(TfEncoderDecoder, self).__init__(**kwargs)\n",
    "\n",
    "    def build_graph(self):\n",
    "        self._define_embedding()\n",
    "        self._init_placeholders()\n",
    "        self._init_embedding()\n",
    "        self.encoding_layer()\n",
    "        self.decoding_layer()\n",
    "\n",
    "\n",
    "    def _init_placeholders(self):\n",
    "        self.encoder_inputs = tf.placeholder(\n",
    "            shape=[None, None],\n",
    "            dtype=tf.int32,\n",
    "            name=\"encoder_inputs\")\n",
    "\n",
    "        self.encoder_lengths = tf.placeholder(\n",
    "            shape=[None],\n",
    "            dtype=tf.int32,\n",
    "            name=\"encoder_lengths\")\n",
    "\n",
    "        self.decoder_inputs= tf.placeholder(\n",
    "            shape=[None, None],\n",
    "            dtype=tf.int32,\n",
    "            name=\"decoder_inputs\")\n",
    "\n",
    "        self.decoder_targets = tf.placeholder(\n",
    "            shape=[None, None],\n",
    "            dtype=tf.int32,\n",
    "            name=\"decoder_targets\")\n",
    "\n",
    "        self.decoder_lengths = tf.placeholder(\n",
    "            shape=[None],\n",
    "            dtype=tf.int32,\n",
    "            name=\"decoder_lengths\")\n",
    "\n",
    "    def _init_embedding(self):\n",
    "        self.embedded_encoder_inputs = tf.nn.embedding_lookup(self.embedding, self.encoder_inputs)\n",
    "        self.embedded_decoder_inputs = tf.nn.embedding_lookup(self.embedding, self.decoder_inputs)\n",
    "\n",
    "    def encoding_layer(self):\n",
    "        encoder_cell = tf.nn.rnn_cell.LSTMCell(self.hidden_dim, activation=self.hidden_activation)\n",
    "        encoder_outputs, encoder_final_state = tf.nn.dynamic_rnn(\n",
    "            cell=encoder_cell,\n",
    "            inputs=self.embedded_encoder_inputs,\n",
    "            time_major=True,\n",
    "            dtype=tf.float32,\n",
    "            scope=\"encoding_layer\")\n",
    "        self.encoder_final_state = encoder_final_state\n",
    "\n",
    "    def decoding_layer(self):\n",
    "        self.decoding_training()\n",
    "        self.decoding_inference()\n",
    "\n",
    "    def decoding_training(self):\n",
    "        self.decoder_cell = tf.nn.rnn_cell.LSTMCell(self.hidden_dim, activation=self.hidden_activation)\n",
    "\n",
    "        decoder_outputs, decoder_final_state = tf.nn.dynamic_rnn(\n",
    "        self.decoder_cell,\n",
    "            self.embedded_decoder_inputs,\n",
    "            initial_state=self.encoder_final_state,\n",
    "            time_major=True,\n",
    "            dtype=tf.float32,\n",
    "            scope=\"decoding_layer\")\n",
    "        decoder_logits = tf.contrib.layers.linear(decoder_outputs, self.vocab_size)\n",
    "        \n",
    "        self.training_outputs = decoder_outputs\n",
    "        self.training_logits = decoder_logits\n",
    "\n",
    "\n",
    "    def decoding_inference(self):\n",
    "        output_layer = Dense(\n",
    "            self.vocab_size,\n",
    "            kernel_initializer = tf.truncated_normal_initializer(mean = 0.0, stddev=0.1))\n",
    "\n",
    "        start_tokens = tf.tile(\n",
    "            input=tf.constant([2], dtype=tf.int32), # TODO: don't hardcode start token like this (2)\n",
    "            multiples=[self.batch_size],\n",
    "            name='start_tokens')\n",
    "\n",
    "        helper = tf.contrib.seq2seq.GreedyEmbeddingHelper(\n",
    "            embedding=self.embedding,\n",
    "            start_tokens=start_tokens,\n",
    "            end_token=3) # TODO: don't hardcode end token like this (3)\n",
    "\n",
    "        inference_decoder = tf.contrib.seq2seq.BasicDecoder(\n",
    "            self.decoder_cell,\n",
    "            helper,\n",
    "            self.encoder_final_state,\n",
    "            output_layer)\n",
    "\n",
    "        inference_decoder_output = tf.contrib.seq2seq.dynamic_decode(\n",
    "            inference_decoder,\n",
    "            impute_finished=True,\n",
    "            maximum_iterations=self.max_output_length)[0]\n",
    "\n",
    "        self.inference_decoder_output = inference_decoder_output \n",
    "        self.inference_logits = inference_decoder_output.sample_id\n",
    "\n",
    "\n",
    "    def prepare_output_data(self, y):\n",
    "        return y\n",
    "\n",
    "\n",
    "    def get_cost_function(self, **kwargs):\n",
    "        return tf.reduce_mean(\n",
    "            tf.nn.softmax_cross_entropy_with_logits_v2(\n",
    "                logits=self.training_logits,\n",
    "                labels=tf.one_hot(self.decoder_targets, depth=self.vocab_size, dtype=tf.float32)))\n",
    "\n",
    "\n",
    "    def predict(self, X):\n",
    "        X, x_lengths = self._convert_X(X)\n",
    "        sliced_logits = tf.slice(X)\n",
    "        answer_logits = self.sess.run(self.inference_logits, {self.encoder_inputs: [X]*self.batch_size, \n",
    "                                      self.decoder_lengths: [len(X)]*self.batch_size, \n",
    "                                      self.encoder_lengths: [len(X)]*self.batch_size})[0] \n",
    "\n",
    "        return predictions\n",
    "\n",
    "\n",
    "    def train_dict(self, X, y):\n",
    "        decoder_inputs = [[\"<GO>\"] + list(seq) for seq in y]\n",
    "        decoder_targets = [list(seq) + [\"<EOS>\"] for seq in y]\n",
    "\n",
    "        encoder_inputs, encoder_lengths = self._convert_X(X)\n",
    "        decoder_inputs, decoder_lengths = self._convert_X(decoder_inputs)\n",
    "        decoder_targets, _ = self._convert_X(decoder_targets)\n",
    "        return {self.encoder_inputs: encoder_inputs,\n",
    "            self.decoder_inputs: decoder_inputs,\n",
    "            self.decoder_targets: decoder_targets,\n",
    "            self.encoder_lengths: encoder_lengths,\n",
    "            self.decoder_lengths: decoder_lengths}"
   ]
  },
  {
   "cell_type": "markdown",
   "metadata": {},
   "source": [
    "### Simple test dataset\n",
    "Generate a dataset of \"ab\" strings that translates \"a\" to \"b\" and vice versa. For example:\n",
    " * \"aaab\" -> \"bbba\"\n",
    " * \"bb\" -> \"aa\"\n",
    "\n",
    "Also need to define the vocab set. The superclass `TfModelBase` will take care of preprocessing."
   ]
  },
  {
   "cell_type": "code",
   "execution_count": 13,
   "metadata": {},
   "outputs": [],
   "source": [
    "vocab = ['<PAD>', '$UNK', '<GO>', '<EOS>', 'a', 'b']\n",
    "\n",
    "train = []\n",
    "for i in range(100):\n",
    "    input_string = \"\"\n",
    "    output_string = \"\"\n",
    "    length = random.randint(1,5)\n",
    "    for char in range(length):\n",
    "        if (random.random() > 0.5):\n",
    "            input_string += \"a\"\n",
    "            output_string += \"b\"\n",
    "        else:\n",
    "            input_string += \"b\"\n",
    "            output_string += \"a\"\n",
    "        train.append([np.asarray(list(input_string)), np.asarray(list(output_string))])"
   ]
  },
  {
   "cell_type": "code",
   "execution_count": 16,
   "metadata": {},
   "outputs": [
    {
     "data": {
      "text/plain": [
       "[[array(['a'], dtype='<U1'), array(['b'], dtype='<U1')],\n",
       " [array(['a', 'a'], dtype='<U1'), array(['b', 'b'], dtype='<U1')],\n",
       " [array(['a', 'a', 'b'], dtype='<U1'), array(['b', 'b', 'a'], dtype='<U1')],\n",
       " [array(['b'], dtype='<U1'), array(['a'], dtype='<U1')],\n",
       " [array(['b', 'a'], dtype='<U1'), array(['a', 'b'], dtype='<U1')]]"
      ]
     },
     "execution_count": 16,
     "metadata": {},
     "output_type": "execute_result"
    }
   ],
   "source": [
    "train[:5]"
   ]
  },
  {
   "cell_type": "code",
   "execution_count": 17,
   "metadata": {},
   "outputs": [],
   "source": [
    "test = [[np.asarray(list('ab')), np.asarray(list('ba'))],\n",
    "        [np.asarray(list('ba')), np.asarray(list('ab'))]]"
   ]
  },
  {
   "cell_type": "markdown",
   "metadata": {},
   "source": [
    "Now we can instantiate the class and test it:"
   ]
  },
  {
   "cell_type": "code",
   "execution_count": 18,
   "metadata": {},
   "outputs": [
    {
     "name": "stderr",
     "output_type": "stream",
     "text": [
      "Iteration 100: loss: 0.6836377382278442"
     ]
    },
    {
     "ename": "TypeError",
     "evalue": "slice() missing 2 required positional arguments: 'begin' and 'size'",
     "output_type": "error",
     "traceback": [
      "\u001b[0;31m---------------------------------------------------------------------------\u001b[0m",
      "\u001b[0;31mTypeError\u001b[0m                                 Traceback (most recent call last)",
      "\u001b[0;32m<ipython-input-18-73569fbbdc45>\u001b[0m in \u001b[0;36m<module>\u001b[0;34m()\u001b[0m\n\u001b[1;32m      6\u001b[0m \u001b[0;34m\u001b[0m\u001b[0m\n\u001b[1;32m      7\u001b[0m \u001b[0mX_test\u001b[0m\u001b[0;34m,\u001b[0m \u001b[0m_\u001b[0m \u001b[0;34m=\u001b[0m \u001b[0mzip\u001b[0m\u001b[0;34m(\u001b[0m\u001b[0;34m*\u001b[0m\u001b[0mtest\u001b[0m\u001b[0;34m)\u001b[0m\u001b[0;34m\u001b[0m\u001b[0m\n\u001b[0;32m----> 8\u001b[0;31m \u001b[0mprint\u001b[0m\u001b[0;34m(\u001b[0m\u001b[0;34m'\\nPredictions:'\u001b[0m\u001b[0;34m,\u001b[0m \u001b[0mseq2seq\u001b[0m\u001b[0;34m.\u001b[0m\u001b[0mpredict\u001b[0m\u001b[0;34m(\u001b[0m\u001b[0mX_test\u001b[0m\u001b[0;34m)\u001b[0m\u001b[0;34m)\u001b[0m\u001b[0;34m\u001b[0m\u001b[0m\n\u001b[0m",
      "\u001b[0;32m<ipython-input-10-b21c2b38cffe>\u001b[0m in \u001b[0;36mpredict\u001b[0;34m(self, X)\u001b[0m\n\u001b[1;32m    118\u001b[0m     \u001b[0;32mdef\u001b[0m \u001b[0mpredict\u001b[0m\u001b[0;34m(\u001b[0m\u001b[0mself\u001b[0m\u001b[0;34m,\u001b[0m \u001b[0mX\u001b[0m\u001b[0;34m)\u001b[0m\u001b[0;34m:\u001b[0m\u001b[0;34m\u001b[0m\u001b[0m\n\u001b[1;32m    119\u001b[0m         \u001b[0mX\u001b[0m\u001b[0;34m,\u001b[0m \u001b[0mx_lengths\u001b[0m \u001b[0;34m=\u001b[0m \u001b[0mself\u001b[0m\u001b[0;34m.\u001b[0m\u001b[0m_convert_X\u001b[0m\u001b[0;34m(\u001b[0m\u001b[0mX\u001b[0m\u001b[0;34m)\u001b[0m\u001b[0;34m\u001b[0m\u001b[0m\n\u001b[0;32m--> 120\u001b[0;31m         \u001b[0msliced_logits\u001b[0m \u001b[0;34m=\u001b[0m \u001b[0mtf\u001b[0m\u001b[0;34m.\u001b[0m\u001b[0mslice\u001b[0m\u001b[0;34m(\u001b[0m\u001b[0mX\u001b[0m\u001b[0;34m)\u001b[0m\u001b[0;34m\u001b[0m\u001b[0m\n\u001b[0m\u001b[1;32m    121\u001b[0m         answer_logits = self.sess.run(self.inference_logits, {self.encoder_inputs: [X]*self.batch_size, \n\u001b[1;32m    122\u001b[0m                                       \u001b[0mself\u001b[0m\u001b[0;34m.\u001b[0m\u001b[0mdecoder_lengths\u001b[0m\u001b[0;34m:\u001b[0m \u001b[0;34m[\u001b[0m\u001b[0mlen\u001b[0m\u001b[0;34m(\u001b[0m\u001b[0mX\u001b[0m\u001b[0;34m)\u001b[0m\u001b[0;34m]\u001b[0m\u001b[0;34m*\u001b[0m\u001b[0mself\u001b[0m\u001b[0;34m.\u001b[0m\u001b[0mbatch_size\u001b[0m\u001b[0;34m,\u001b[0m\u001b[0;34m\u001b[0m\u001b[0m\n",
      "\u001b[0;31mTypeError\u001b[0m: slice() missing 2 required positional arguments: 'begin' and 'size'"
     ]
    }
   ],
   "source": [
    "seq2seq = TfEncoderDecoder(\n",
    "    vocab=vocab, max_iter=100, max_length=5, eta=0.1)\n",
    "\n",
    "X, y = zip(*train)\n",
    "seq2seq.fit(X, y)\n",
    "\n",
    "X_test, _ = zip(*test)\n",
    "print('\\nPredictions:', seq2seq.predict(X_test))"
   ]
  }
 ],
 "metadata": {
  "kernelspec": {
   "display_name": "Python 3",
   "language": "python",
   "name": "python3"
  },
  "language_info": {
   "codemirror_mode": {
    "name": "ipython",
    "version": 3
   },
   "file_extension": ".py",
   "mimetype": "text/x-python",
   "name": "python",
   "nbconvert_exporter": "python",
   "pygments_lexer": "ipython3",
   "version": "3.6.5"
  }
 },
 "nbformat": 4,
 "nbformat_minor": 2
}
