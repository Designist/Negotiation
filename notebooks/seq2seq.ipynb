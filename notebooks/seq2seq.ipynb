{
 "cells": [
  {
   "cell_type": "markdown",
   "metadata": {},
   "source": [
    "Basic seq2seq model with Tensorflow\n",
    "======================"
   ]
  },
  {
   "cell_type": "code",
   "execution_count": 2,
   "metadata": {},
   "outputs": [],
   "source": [
    "__author__ = 'Nicholas Tomlin'\n",
    "__version__ = \"CSLI Summer 2018 internship\""
   ]
  },
  {
   "cell_type": "markdown",
   "metadata": {},
   "source": [
    "### Imports \n",
    "Tested with Tensorflow 1.8.0. Using the Dense layer for seq2seq inference decoder, which will be described below. We'll need to add the `src/models/` file to our Python path to import the base RNN model."
   ]
  },
  {
   "cell_type": "code",
   "execution_count": 80,
   "metadata": {},
   "outputs": [],
   "source": [
    "import numpy as np\n",
    "import tensorflow as tf\n",
    "import warnings\n",
    "import random\n",
    "from tensorflow.python.layers.core import Dense"
   ]
  },
  {
   "cell_type": "code",
   "execution_count": 81,
   "metadata": {},
   "outputs": [],
   "source": [
    "import sys\n",
    "sys.path.append('../src/models/')\n",
    "from tf_rnn_classifier import TfRNNClassifier"
   ]
  },
  {
   "cell_type": "markdown",
   "metadata": {},
   "source": [
    "### Basic seq2seq class definition\n",
    "We build a single graph which includes embeddings, encoding, and two separate decoding functions. One decoding function is used during training, and the other is used for inference (prediction). "
   ]
  },
  {
   "cell_type": "code",
   "execution_count": 120,
   "metadata": {},
   "outputs": [],
   "source": [
    "class TfEncoderDecoder(TfRNNClassifier):\n",
    "    def __init__(self, max_input_length=5, max_output_length=6, num_layers=2, **kwargs):\n",
    "        self.max_input_length = max_input_length\n",
    "        self.max_output_length = max_output_length\n",
    "        self.num_layers = num_layers\n",
    "        super(TfEncoderDecoder, self).__init__(**kwargs)\n",
    "\n",
    "    def build_graph(self):\n",
    "        self._define_embedding()\n",
    "        self._init_placeholders()\n",
    "        self._init_embedding()\n",
    "        self.encoding_layer()\n",
    "        self.decoding_layer()\n",
    "\n",
    "\n",
    "    def _init_placeholders(self):\n",
    "        self.encoder_inputs = tf.placeholder(\n",
    "            shape=[None, None],\n",
    "            dtype=tf.int32,\n",
    "            name=\"encoder_inputs\")\n",
    "\n",
    "        self.encoder_lengths = tf.placeholder(\n",
    "            shape=[None,],\n",
    "            dtype=tf.int32,\n",
    "            name=\"encoder_lengths\")\n",
    "\n",
    "        self.decoder_inputs= tf.placeholder(\n",
    "            shape=[None, None],\n",
    "            dtype=tf.int32,\n",
    "            name=\"decoder_inputs\")\n",
    "\n",
    "        self.decoder_targets = tf.placeholder(\n",
    "            shape=[None, None],\n",
    "            dtype=tf.int32,\n",
    "            name=\"decoder_targets\")\n",
    "\n",
    "        self.decoder_lengths = tf.placeholder(\n",
    "            shape=[None,],\n",
    "            dtype=tf.int32,\n",
    "            name=\"decoder_lengths\")\n",
    "\n",
    "    def _init_embedding(self):\n",
    "#         self.embedded_encoder_inputs = tf.nn.embedding_lookup(self.embedding, self.encoder_inputs)\n",
    "#         self.embedded_decoder_inputs = tf.nn.embedding_lookup(self.embedding, self.decoder_inputs)\n",
    "        self.embedded_encoder_inputs = tf.contrib.layers.embed_sequence(\n",
    "            self.encoder_inputs,\n",
    "            self.vocab_size,\n",
    "            self.embed_dim)\n",
    "        decoder_embedding_space = tf.Variable(tf.random_uniform([self.vocab_size, self.embed_dim]))\n",
    "        self.embedded_decoder_inputs = tf.nn.embedding_lookup(\n",
    "            decoder_embedding_space,\n",
    "            self.decoder_inputs)\n",
    "\n",
    "\n",
    "    def encoding_layer(self):\n",
    "#         encoder_cell = tf.nn.rnn_cell.LSTMCell(\n",
    "#             self.hidden_dim, \n",
    "#             activation=self.hidden_activation)\n",
    "        encoder_cell = tf.contrib.rnn.MultiRNNCell([\n",
    "            tf.nn.rnn_cell.LSTMCell(\n",
    "            self.hidden_dim, \n",
    "            initializer=tf.random_uniform_initializer(-0.1, 0.1, seed=2)) for _ in range(self.num_layers)])\n",
    "        \n",
    "        encoder_outputs, encoder_final_state = tf.nn.dynamic_rnn(\n",
    "            cell=encoder_cell,\n",
    "            inputs=self.embedded_encoder_inputs,\n",
    "            sequence_length=self.encoder_lengths,\n",
    "            dtype=tf.float32,\n",
    "            scope=\"encoding_layer\")\n",
    "        \n",
    "        self.encoder_final_state = encoder_final_state\n",
    "\n",
    "    def decoding_layer(self):\n",
    "        self.decoding_training()\n",
    "        self.decoding_inference()\n",
    "\n",
    "    def decoding_training(self):\n",
    "#         self.decoder_cell = tf.nn.rnn_cell.LSTMCell(self.hidden_dim, activation=self.hidden_activation)\n",
    "        self.decoder_cell = tf.contrib.rnn.MultiRNNCell([\n",
    "            tf.nn.rnn_cell.LSTMCell(\n",
    "            self.hidden_dim, \n",
    "            initializer=tf.random_uniform_initializer(-0.1, 0.1, seed=2)) for _ in range(self.num_layers)])\n",
    "        \n",
    "        self.output_layer = Dense(\n",
    "            self.vocab_size,\n",
    "            kernel_initializer = tf.truncated_normal_initializer(mean = 0.0, stddev=0.1))\n",
    "        \n",
    "        training_helper = tf.contrib.seq2seq.TrainingHelper(\n",
    "            inputs=self.embedded_decoder_inputs,\n",
    "            sequence_length=self.decoder_lengths,\n",
    "            time_major=False)\n",
    "        \n",
    "        training_decoder = tf.contrib.seq2seq.BasicDecoder(\n",
    "            self.decoder_cell,\n",
    "            training_helper,\n",
    "            self.encoder_final_state,\n",
    "            self.output_layer)\n",
    "        \n",
    "        training_decoder_output = tf.contrib.seq2seq.dynamic_decode(\n",
    "            training_decoder,\n",
    "            impute_finished=True,\n",
    "            maximum_iterations=self.max_output_length)[0]\n",
    "        \n",
    "        self.training_outputs = training_decoder_output\n",
    "        self.training_logits = training_decoder_output.rnn_output\n",
    "#         self.decoder_cell = tf.nn.rnn_cell.LSTMCell(self.hidden_dim, activation=self.hidden_activation)\n",
    "\n",
    "#         decoder_outputs, decoder_final_state = tf.nn.dynamic_rnn(\n",
    "#             self.decoder_cell,\n",
    "#             self.embedded_decoder_inputs,\n",
    "#             initial_state=self.encoder_final_state,\n",
    "#             time_major=True,\n",
    "#             dtype=tf.float32,\n",
    "#             scope=\"decoding_layer\")\n",
    "#         decoder_logits = tf.contrib.layers.linear(decoder_outputs, self.vocab_size)\n",
    "        \n",
    "#         self.training_outputs = decoder_outputs\n",
    "#         self.training_logits = decoder_logits\n",
    "\n",
    "    def decoding_inference(self):\n",
    "        start_tokens = tf.tile(\n",
    "            input=tf.constant([2], dtype=tf.int32), # TODO: don't hardcode start token like this (2)\n",
    "            multiples=[self.batch_size],\n",
    "            name='start_tokens')\n",
    "\n",
    "        helper = tf.contrib.seq2seq.GreedyEmbeddingHelper(\n",
    "            embedding=self.embedding,\n",
    "            start_tokens=start_tokens,\n",
    "            end_token=3) # TODO: don't hardcode end token like this (3)\n",
    "\n",
    "        inference_decoder = tf.contrib.seq2seq.BasicDecoder(\n",
    "            self.decoder_cell,\n",
    "            helper,\n",
    "            self.encoder_final_state,\n",
    "            self.output_layer)\n",
    "\n",
    "        inference_decoder_output = tf.contrib.seq2seq.dynamic_decode(\n",
    "            inference_decoder,\n",
    "            impute_finished=True,\n",
    "            maximum_iterations=self.max_output_length)[0]\n",
    "\n",
    "        self.inference_decoder_output = inference_decoder_output \n",
    "        self.inference_logits = inference_decoder_output.sample_id\n",
    "\n",
    "    def prepare_output_data(self, y):\n",
    "        return y\n",
    "    \n",
    "    def prepare_data(self, X, max_length):\n",
    "        new_X = np.zeros((len(X), max_length), dtype='int')\n",
    "        ex_lengths = []\n",
    "        index = dict(zip(self.vocab, range(len(self.vocab))))\n",
    "        unk_index = index['$UNK']\n",
    "        for i in range(new_X.shape[0]):\n",
    "            ex_len = min([len(X[i]), max_length])\n",
    "            ex_lengths.append(max_length)\n",
    "            vals = X[i][-self.max_length: ]\n",
    "            vals = [index.get(w, unk_index) for w in vals]\n",
    "            temp = np.zeros((max_length,), dtype='int')\n",
    "            temp[0: len(vals)] = vals\n",
    "            new_X[i] = temp\n",
    "        return new_X, ex_lengths\n",
    "\n",
    "    def get_cost_function(self, **kwargs):\n",
    "        masks = tf.sequence_mask(self.decoder_lengths, self.max_output_length, dtype=tf.float32, name='masks')\n",
    "        cost = tf.contrib.seq2seq.sequence_loss(\n",
    "            self.training_logits,\n",
    "            self.decoder_targets,\n",
    "            masks)\n",
    "        return cost\n",
    "#         return tf.reduce_mean(\n",
    "#             tf.nn.softmax_cross_entropy_with_logits_v2(\n",
    "#                 logits=self.training_logits,\n",
    "#                 labels=tf.one_hot(self.decoder_targets, depth=self.vocab_size, dtype=tf.float32)))\n",
    "\n",
    "#     def get_optimizer(self):\n",
    "#         optimizer = tf.train.AdamOptimizer(self.eta)\n",
    "#         gradients = optimizer.compute_gradients(self.cost)\n",
    "#         capped_gradients = [(tf.clip_by_value(grad, -5., 5.), var) for grad, var in gradients if grad is not None]\n",
    "#         return optimizer.apply_gradients(capped_gradients)\n",
    "# #         return tf.train.GradientDescentOptimizer(\n",
    "# #             self.eta).minimize(self.cost)\n",
    "\n",
    "    def predict(self, X):\n",
    "        X, x_lengths = self.prepare_data(X, self.max_input_length)\n",
    "        length = X.shape[1]\n",
    "        X.resize((self.batch_size, length))\n",
    "        answer_logits = self.sess.run(self.inference_logits, {self.encoder_inputs: X, \n",
    "                                      self.decoder_lengths: [6]*self.batch_size, \n",
    "                                      self.encoder_lengths: [5]*self.batch_size})[0] \n",
    "        return answer_logits\n",
    "\n",
    "    def train_dict(self, X, y):\n",
    "        decoder_inputs = [[\"<GO>\"] + list(seq) for seq in y]\n",
    "        decoder_targets = [list(seq) + [\"<EOS>\"] for seq in y]\n",
    "\n",
    "        encoder_inputs, _ = self.prepare_data(X, self.max_input_length)\n",
    "        decoder_inputs, _ = self.prepare_data(decoder_inputs, self.max_output_length)\n",
    "        decoder_targets, _ = self.prepare_data(decoder_targets, self.max_output_length)\n",
    "        encoder_lengths = [len(seq) for seq in encoder_inputs]\n",
    "        decoder_lengths = [len(seq) for seq in decoder_inputs]\n",
    "        \n",
    "        return {self.encoder_inputs: encoder_inputs,\n",
    "            self.decoder_inputs: decoder_inputs,\n",
    "            self.decoder_targets: decoder_targets,\n",
    "            self.encoder_lengths: encoder_lengths,\n",
    "            self.decoder_lengths: decoder_lengths}"
   ]
  },
  {
   "cell_type": "markdown",
   "metadata": {},
   "source": [
    "### Simple test dataset\n",
    "Generate a dataset of \"ab\" strings that translates \"a\" to \"b\" and vice versa. For example:\n",
    " * \"aaab\" -> \"bbba\"\n",
    " * \"bb\" -> \"aa\"\n",
    "\n",
    "Also need to define the vocab set. The superclass `TfModelBase` will take care of preprocessing."
   ]
  },
  {
   "cell_type": "code",
   "execution_count": 121,
   "metadata": {},
   "outputs": [],
   "source": [
    "vocab = ['<PAD>', '$UNK', '<GO>', '<EOS>', 'a', 'b']\n",
    "\n",
    "train = []\n",
    "for i in range(100):\n",
    "    input_string = \"\"\n",
    "    output_string = \"\"\n",
    "    length = random.randint(1,5)\n",
    "    for char in range(length):\n",
    "        if (random.random() > 0.5):\n",
    "            input_string += \"a\"\n",
    "            output_string += \"b\"\n",
    "        else:\n",
    "            input_string += \"b\"\n",
    "            output_string += \"a\"\n",
    "        train.append([np.asarray(list(input_string)), np.asarray(list(output_string))])"
   ]
  },
  {
   "cell_type": "code",
   "execution_count": 122,
   "metadata": {},
   "outputs": [
    {
     "data": {
      "text/plain": [
       "[[array(['a'], dtype='<U1'), array(['b'], dtype='<U1')],\n",
       " [array(['a', 'a'], dtype='<U1'), array(['b', 'b'], dtype='<U1')],\n",
       " [array(['a', 'a', 'a'], dtype='<U1'), array(['b', 'b', 'b'], dtype='<U1')],\n",
       " [array(['a', 'a', 'a', 'a'], dtype='<U1'),\n",
       "  array(['b', 'b', 'b', 'b'], dtype='<U1')],\n",
       " [array(['b'], dtype='<U1'), array(['a'], dtype='<U1')]]"
      ]
     },
     "execution_count": 122,
     "metadata": {},
     "output_type": "execute_result"
    }
   ],
   "source": [
    "train[:5]"
   ]
  },
  {
   "cell_type": "code",
   "execution_count": 123,
   "metadata": {},
   "outputs": [],
   "source": [
    "test = [[np.asarray(list('ab')), np.asarray(list('ba'))],\n",
    "        [np.asarray(list('ba')), np.asarray(list('ab'))]]"
   ]
  },
  {
   "cell_type": "markdown",
   "metadata": {},
   "source": [
    "Now we can instantiate the class and test it:"
   ]
  },
  {
   "cell_type": "code",
   "execution_count": 124,
   "metadata": {},
   "outputs": [
    {
     "name": "stderr",
     "output_type": "stream",
     "text": [
      "Iteration 10: loss: 1.5913816690444946"
     ]
    }
   ],
   "source": [
    "seq2seq = TfEncoderDecoder(\n",
    "    vocab=vocab, max_iter=10, max_length=6, eta=0.1)\n",
    "\n",
    "X, y = zip(*train);\n",
    "seq2seq.fit(X, y);"
   ]
  },
  {
   "cell_type": "code",
   "execution_count": 119,
   "metadata": {
    "scrolled": true
   },
   "outputs": [
    {
     "name": "stdout",
     "output_type": "stream",
     "text": [
      "\n",
      "Predictions: [5 4 4 0 0 0]\n"
     ]
    }
   ],
   "source": [
    "X_test, _ = zip(*test)\n",
    "print('\\nPredictions:', seq2seq.predict(X_test))"
   ]
  },
  {
   "cell_type": "code",
   "execution_count": null,
   "metadata": {},
   "outputs": [],
   "source": []
  }
 ],
 "metadata": {
  "kernelspec": {
   "display_name": "Python 3",
   "language": "python",
   "name": "python3"
  },
  "language_info": {
   "codemirror_mode": {
    "name": "ipython",
    "version": 3
   },
   "file_extension": ".py",
   "mimetype": "text/x-python",
   "name": "python",
   "nbconvert_exporter": "python",
   "pygments_lexer": "ipython3",
   "version": "3.6.5"
  }
 },
 "nbformat": 4,
 "nbformat_minor": 2
}
