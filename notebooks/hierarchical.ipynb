{
 "cells": [
  {
   "cell_type": "markdown",
   "metadata": {},
   "source": [
    "# Hierarchical RNN for dialogue\n",
    "The baseline hierarchical model from \"Hierarchical Text Generation and Planning for Strategic Dialogue.\""
   ]
  },
  {
   "cell_type": "code",
   "execution_count": 1,
   "metadata": {},
   "outputs": [],
   "source": [
    "import numpy as np\n",
    "import pandas as pd\n",
    "import tensorflow as tf\n",
    "import warnings\n",
    "import random\n",
    "import json\n",
    "from tensorflow.python.layers.core import Dense"
   ]
  },
  {
   "cell_type": "code",
   "execution_count": 2,
   "metadata": {},
   "outputs": [],
   "source": [
    "import sys\n",
    "sys.path.append(\"../src/models/\")\n",
    "sys.path.append('../src/models/agents/')\n",
    "sys.path.append('../src/data/')\n",
    "from agent import Agent\n",
    "from parse import SentenceParser"
   ]
  },
  {
   "cell_type": "code",
   "execution_count": 3,
   "metadata": {},
   "outputs": [],
   "source": [
    "train_iterations = 300\n",
    "learning_rate = 0.1\n",
    "max_input_length = 6\n",
    "max_output_length = 20\n",
    "unk_threshold = 20"
   ]
  },
  {
   "cell_type": "markdown",
   "metadata": {},
   "source": [
    "### Sentence-level parsing\n",
    "Not dealing with the final action data for now. Training examples are lists of utterances."
   ]
  },
  {
   "cell_type": "code",
   "execution_count": 4,
   "metadata": {},
   "outputs": [
    {
     "name": "stdout",
     "output_type": "stream",
     "text": [
      "Vocab size: 502\n"
     ]
    }
   ],
   "source": [
    "parser = SentenceParser(unk_threshold=unk_threshold,\n",
    "                  input_directory=\"../data/raw/\",\n",
    "                  output_directory=\"../data/tmp/\")\n",
    "print(\"Vocab size: {}\".format(parser.vocab_size))"
   ]
  },
  {
   "cell_type": "code",
   "execution_count": 5,
   "metadata": {},
   "outputs": [],
   "source": [
    "parser.parse()"
   ]
  },
  {
   "cell_type": "markdown",
   "metadata": {},
   "source": [
    "### Hierarchical Agent"
   ]
  },
  {
   "cell_type": "code",
   "execution_count": 12,
   "metadata": {},
   "outputs": [],
   "source": [
    "class HierarchicalAgent(Agent):    \n",
    "    def _init_placeholders(self):\n",
    "        self.encoder_inputs = tf.placeholder(\n",
    "            shape=[None, None, None],\n",
    "            dtype=tf.int32,\n",
    "            name=\"encoder_inputs\")\n",
    "\n",
    "        self.encoder_lengths = tf.placeholder(\n",
    "            shape=[None, None],\n",
    "            dtype=tf.int32,\n",
    "            name=\"encoder_lengths\")\n",
    "\n",
    "        self.decoder_inputs= tf.placeholder(\n",
    "            shape=[None, None, None],\n",
    "            dtype=tf.int32,\n",
    "            name=\"decoder_inputs\")\n",
    "\n",
    "        self.decoder_targets = tf.placeholder(\n",
    "            shape=[None, None, None],\n",
    "            dtype=tf.int32,\n",
    "            name=\"decoder_targets\")\n",
    "\n",
    "        self.decoder_lengths = tf.placeholder(\n",
    "            shape=[None, None],\n",
    "            dtype=tf.int32,\n",
    "            name=\"decoder_lengths\")\n",
    "        \n",
    "    def encoding_layer(self):\n",
    "        self.encoder_cell = tf.contrib.rnn.MultiRNNCell([\n",
    "            tf.nn.rnn_cell.LSTMCell(\n",
    "                self.hidden_dim, \n",
    "                initializer=tf.random_uniform_initializer(-0.1, 0.1, seed=1),\n",
    "                reuse=tf.AUTO_REUSE)\n",
    "            for _ in range(self.num_layers)])\n",
    "        \n",
    "        self.encoder_final_states = tf.map_fn(\n",
    "            fn=self.encode_step, \n",
    "            elems=(self.embedded_encoder_inputs, self.encoder_lengths), dtype=tf.float32)\n",
    "    \n",
    "    def encode_step(self, args):\n",
    "        embedded_encoder_inputs = args[0]\n",
    "        encoder_lengths = args[1]\n",
    "        \n",
    "        encoder_outputs, encoder_final_state = tf.nn.dynamic_rnn(\n",
    "            cell=self.encoder_cell,\n",
    "            inputs=embedded_encoder_inputs,\n",
    "            sequence_length=encoder_lengths,\n",
    "            dtype=tf.float32)\n",
    "        \n",
    "        return encoder_final_state[-1][1]\n",
    "        \n",
    "    def context_layer(self):\n",
    "        self.context_cell = tf.contrib.rnn.MultiRNNCell([\n",
    "            tf.nn.rnn_cell.LSTMCell(\n",
    "                self.hidden_dim, \n",
    "                initializer=tf.random_uniform_initializer(-0.1, 0.1, seed=2))\n",
    "            for _ in range(self.num_layers)])\n",
    "        \n",
    "        context_outputs, context_final_state = tf.nn.dynamic_rnn(\n",
    "            cell=self.context_cell,\n",
    "            inputs=self.encoder_final_states,\n",
    "            sequence_length=[10] * self.batch_size, # TODO: replace \"10\" with max_turns\n",
    "            dtype=tf.float32,\n",
    "            scope=\"context_layer\")\n",
    "        \n",
    "        self.context_outputs = context_outputs\n",
    "        \n",
    "    def decoding_layer(self):\n",
    "        self.decoder_cell = tf.contrib.rnn.MultiRNNCell([\n",
    "            tf.nn.rnn_cell.GRUCell(self.hidden_dim) for _ in range(self.num_layers)])\n",
    "        \n",
    "        self.output_layer = Dense(\n",
    "            units=self.vocab_size,\n",
    "            kernel_initializer=tf.truncated_normal_initializer(mean = 0.0, stddev=0.1))\n",
    "        \n",
    "        self.decoding_training()\n",
    "#         self.decoding_inference()\n",
    "    \n",
    "    def decoding_training(self):\n",
    "        self.decoding_logits = tf.map_fn(\n",
    "            fn=self.decoding_training_step,\n",
    "            elems=(self.context_outputs, self.embedded_decoder_inputs, self.decoder_lengths),\n",
    "            dtype=tf.float32)\n",
    "        \n",
    "    def decoding_training_step(self, args):\n",
    "        context_state = args[0]\n",
    "        embedded_decoder_inputs = args[1]\n",
    "        decoder_lengths = args[2]\n",
    "        \n",
    "        training_helper = tf.contrib.seq2seq.TrainingHelper(\n",
    "            inputs=embedded_decoder_inputs,\n",
    "            sequence_length=decoder_lengths,\n",
    "            time_major=False)\n",
    "        \n",
    "        training_decoder = tf.contrib.seq2seq.BasicDecoder(\n",
    "            cell=self.decoder_cell,\n",
    "            helper=training_helper,\n",
    "            initial_state=(context_state,context_state),\n",
    "            output_layer=self.output_layer)\n",
    "\n",
    "        training_outputs = tf.contrib.seq2seq.dynamic_decode(\n",
    "            decoder=training_decoder,\n",
    "            impute_finished=True,\n",
    "            maximum_iterations=self.max_output_length)[0]\n",
    "        \n",
    "        return training_outputs.rnn_output # logits\n",
    "    \n",
    "    def build_graph(self):\n",
    "        self._init_placeholders()\n",
    "        self._define_embedding()\n",
    "        self.encoding_layer()\n",
    "        self.context_layer()\n",
    "        self.decoding_layer()"
   ]
  },
  {
   "cell_type": "code",
   "execution_count": 13,
   "metadata": {},
   "outputs": [],
   "source": [
    "tf.reset_default_graph()\n",
    "a = HierarchicalAgent(vocab=parser.vocab,\n",
    "              max_iter=train_iterations,\n",
    "              eta=learning_rate,\n",
    "              max_input_length=max_input_length,\n",
    "              max_output_length=max_output_length,\n",
    "              hidden_dim=64)"
   ]
  },
  {
   "cell_type": "code",
   "execution_count": 14,
   "metadata": {},
   "outputs": [],
   "source": [
    "a.build_graph()"
   ]
  },
  {
   "cell_type": "markdown",
   "metadata": {},
   "source": [
    "## External RNN code\n",
    "Code from \"Hierarchical Recurrent Encoder-Decoder for Generative Context-Aware Query Suggestion\"\n",
    "by Sordoni et al. (2015)\n",
    "\n",
    "Paper: https://arxiv.org/abs/1507.02221\n",
    "Repository: https://github.com/tscheepers/hred-attention-tensorflow"
   ]
  },
  {
   "cell_type": "code",
   "execution_count": 9,
   "metadata": {},
   "outputs": [],
   "source": [
    "sys.path.append(\"../src/models/external/\")\n",
    "import layers"
   ]
  },
  {
   "cell_type": "code",
   "execution_count": 10,
   "metadata": {},
   "outputs": [],
   "source": [
    "class HierarchicalAgent(Agent):    \n",
    "    def encoding_layer(self):\n",
    "        self.eoq_mask = tf.expand_dims(tf.cast(tf.not_equal(self.encoder_inputs, self.vocab.index(\"<eos>\")), tf.float32), 2)\n",
    "        \n",
    "        self.sentence_encoder = tf.scan(\n",
    "            lambda result_prev, x: layers.gru_layer_with_reset(\n",
    "                result_prev[1],\n",
    "                x,\n",
    "                name='sentence_encoder',\n",
    "                x_dim=self.embed_dim,\n",
    "                y_dim=self.hidden_dim,\n",
    "                reuse=tf.AUTO_REUSE\n",
    "            ),\n",
    "            (self.embedded_encoder_inputs, self.eoq_mask),\n",
    "            initializer=tf.zeros((2, self.batch_size, self.hidden_dim))\n",
    "        )\n",
    "        \n",
    "        self.encoder_final_states, _ = tf.unstack(self.sentence_encoder, axis=1)\n",
    "        \n",
    "    def context_layer(self):\n",
    "        context_encoder = tf.scan(\n",
    "            lambda result_prev, x: layers.gru_layer_with_retain(\n",
    "                result_prev[1],\n",
    "                x,\n",
    "                name='context_encoder',\n",
    "                x_dim=self.hidden_dim,\n",
    "                y_dim=self.context_dim,\n",
    "                reuse=tf.AUTO_REUSE\n",
    "            ),\n",
    "            (self.encoder_final_states, self.eoq_mask),\n",
    "            initializer=tf.zeros((2, self.batch_size, self.context_dim))\n",
    "        )\n",
    "        \n",
    "        self.context_final_states, _ = tf.unstack(context_encoder, axis=1)\n",
    "\n",
    "    def decoding_layer(self):\n",
    "        num_of_steps = tf.shape(self.encoder_inputs)[0]\n",
    "        \n",
    "        decoder = tf.scan(\n",
    "            lambda result_prev, x: layers.gru_layer_with_state_reset(\n",
    "                result_prev,\n",
    "                x,\n",
    "                name='decoder',\n",
    "                x_dim=self.embed_dim,\n",
    "                h_dim=self.context_dim,\n",
    "                y_dim=self.hidden_dim,\n",
    "                reuse=tf.AUTO_REUSE\n",
    "            ),\n",
    "            (self.embedded_encoder_inputs, self.eoq_mask, self.context_final_states),\n",
    "            initializer=tf.zeros((self.batch_size, self.hidden_dim))\n",
    "        )\n",
    "        \n",
    "        flatten_decoder = tf.reshape(decoder, (-1, self.hidden_dim))\n",
    "        flatten_embedder = tf.reshape(self.embedded_encoder_inputs, (-1, self.embed_dim))\n",
    "        \n",
    "        output_layer = layers.output_layer(\n",
    "            flatten_embedder,\n",
    "            flatten_decoder,\n",
    "            x_dim=self.embed_dim,\n",
    "            h_dim=self.hidden_dim,\n",
    "            y_dim=self.vocab_size,\n",
    "            reuse=tf.AUTO_REUSE\n",
    "        )\n",
    "        \n",
    "        flatten_logits = layers.logits_layer(\n",
    "            output_layer,\n",
    "            x_dim=self.vocab_size,\n",
    "            y_dim=self.vocab_size,\n",
    "            reuse=tf.AUTO_REUSE\n",
    "        )\n",
    "        \n",
    "        self.training_logits = tf.reshape(flatten_logits, (num_of_steps, self.batch_size, self.vocab_size))\n",
    "    \n",
    "    def build_graph(self):\n",
    "        self.context_dim = 101\n",
    "        \n",
    "        self._init_placeholders()\n",
    "        self._define_embedding()\n",
    "        self.encoding_layer()\n",
    "        self.context_layer()\n",
    "        self.decoding_layer()"
   ]
  },
  {
   "cell_type": "code",
   "execution_count": 11,
   "metadata": {},
   "outputs": [],
   "source": [
    "b = HierarchicalAgent(vocab=parser.vocab,\n",
    "              max_iter=train_iterations,\n",
    "              eta=learning_rate,\n",
    "              max_input_length=max_input_length,\n",
    "              max_output_length=max_output_length,\n",
    "              hidden_dim=64)"
   ]
  },
  {
   "cell_type": "code",
   "execution_count": 12,
   "metadata": {},
   "outputs": [],
   "source": [
    "# b.build_graph()"
   ]
  },
  {
   "cell_type": "markdown",
   "metadata": {},
   "source": [
    "### Model training"
   ]
  },
  {
   "cell_type": "code",
   "execution_count": 13,
   "metadata": {},
   "outputs": [],
   "source": [
    "train_data = []\n",
    "with open(\"../data/processed/train.txt\", \"r\") as train_file:\n",
    "    for line in train_file:\n",
    "        train_example = json.loads(line)\n",
    "        train_data.append((\n",
    "            train_example[\"input\"],\n",
    "            train_example[\"output\"][0].split()))"
   ]
  },
  {
   "cell_type": "code",
   "execution_count": 16,
   "metadata": {},
   "outputs": [],
   "source": [
    "X, y = zip(*train_data)\n",
    "X = y"
   ]
  },
  {
   "cell_type": "code",
   "execution_count": 17,
   "metadata": {},
   "outputs": [
    {
     "ename": "ValueError",
     "evalue": "setting an array element with a sequence.",
     "output_type": "error",
     "traceback": [
      "\u001b[0;31m---------------------------------------------------------------------------\u001b[0m",
      "\u001b[0;31mValueError\u001b[0m                                Traceback (most recent call last)",
      "\u001b[0;32m<ipython-input-17-df2cb01967d0>\u001b[0m in \u001b[0;36m<module>\u001b[0;34m()\u001b[0m\n\u001b[0;32m----> 1\u001b[0;31m \u001b[0mb\u001b[0m\u001b[0;34m.\u001b[0m\u001b[0mfit\u001b[0m\u001b[0;34m(\u001b[0m\u001b[0mX\u001b[0m\u001b[0;34m,\u001b[0m \u001b[0my\u001b[0m\u001b[0;34m,\u001b[0m \u001b[0msave_path\u001b[0m\u001b[0;34m=\u001b[0m\u001b[0;34m\"../models/tmp\"\u001b[0m\u001b[0;34m)\u001b[0m\u001b[0;34m\u001b[0m\u001b[0m\n\u001b[0m",
      "\u001b[0;32m~/GitHub/Negotiation/src/models/agents/agent.py\u001b[0m in \u001b[0;36mfit\u001b[0;34m(self, X, y, save_path, **kwargs)\u001b[0m\n\u001b[1;32m     61\u001b[0m \t\t\t\t_, batch_loss = self.sess.run(\n\u001b[1;32m     62\u001b[0m                                         \u001b[0;34m[\u001b[0m\u001b[0mself\u001b[0m\u001b[0;34m.\u001b[0m\u001b[0moptimizer\u001b[0m\u001b[0;34m,\u001b[0m \u001b[0mself\u001b[0m\u001b[0;34m.\u001b[0m\u001b[0mcost\u001b[0m\u001b[0;34m]\u001b[0m\u001b[0;34m,\u001b[0m\u001b[0;34m\u001b[0m\u001b[0m\n\u001b[0;32m---> 63\u001b[0;31m \t\t\t\t\tfeed_dict=self.train_dict(X_batch, y_batch))\n\u001b[0m\u001b[1;32m     64\u001b[0m                                 \u001b[0mloss\u001b[0m \u001b[0;34m+=\u001b[0m \u001b[0mbatch_loss\u001b[0m\u001b[0;34m\u001b[0m\u001b[0m\n\u001b[1;32m     65\u001b[0m                         \u001b[0mself\u001b[0m\u001b[0;34m.\u001b[0m\u001b[0merrors\u001b[0m\u001b[0;34m.\u001b[0m\u001b[0mappend\u001b[0m\u001b[0;34m(\u001b[0m\u001b[0mloss\u001b[0m\u001b[0;34m)\u001b[0m\u001b[0;34m\u001b[0m\u001b[0m\n",
      "\u001b[0;32m/usr/local/lib/python3.6/site-packages/tensorflow/python/client/session.py\u001b[0m in \u001b[0;36mrun\u001b[0;34m(self, fetches, feed_dict, options, run_metadata)\u001b[0m\n\u001b[1;32m    898\u001b[0m     \u001b[0;32mtry\u001b[0m\u001b[0;34m:\u001b[0m\u001b[0;34m\u001b[0m\u001b[0m\n\u001b[1;32m    899\u001b[0m       result = self._run(None, fetches, feed_dict, options_ptr,\n\u001b[0;32m--> 900\u001b[0;31m                          run_metadata_ptr)\n\u001b[0m\u001b[1;32m    901\u001b[0m       \u001b[0;32mif\u001b[0m \u001b[0mrun_metadata\u001b[0m\u001b[0;34m:\u001b[0m\u001b[0;34m\u001b[0m\u001b[0m\n\u001b[1;32m    902\u001b[0m         \u001b[0mproto_data\u001b[0m \u001b[0;34m=\u001b[0m \u001b[0mtf_session\u001b[0m\u001b[0;34m.\u001b[0m\u001b[0mTF_GetBuffer\u001b[0m\u001b[0;34m(\u001b[0m\u001b[0mrun_metadata_ptr\u001b[0m\u001b[0;34m)\u001b[0m\u001b[0;34m\u001b[0m\u001b[0m\n",
      "\u001b[0;32m/usr/local/lib/python3.6/site-packages/tensorflow/python/client/session.py\u001b[0m in \u001b[0;36m_run\u001b[0;34m(self, handle, fetches, feed_dict, options, run_metadata)\u001b[0m\n\u001b[1;32m   1102\u001b[0m             \u001b[0mfeed_handles\u001b[0m\u001b[0;34m[\u001b[0m\u001b[0msubfeed_t\u001b[0m\u001b[0;34m]\u001b[0m \u001b[0;34m=\u001b[0m \u001b[0msubfeed_val\u001b[0m\u001b[0;34m\u001b[0m\u001b[0m\n\u001b[1;32m   1103\u001b[0m           \u001b[0;32melse\u001b[0m\u001b[0;34m:\u001b[0m\u001b[0;34m\u001b[0m\u001b[0m\n\u001b[0;32m-> 1104\u001b[0;31m             \u001b[0mnp_val\u001b[0m \u001b[0;34m=\u001b[0m \u001b[0mnp\u001b[0m\u001b[0;34m.\u001b[0m\u001b[0masarray\u001b[0m\u001b[0;34m(\u001b[0m\u001b[0msubfeed_val\u001b[0m\u001b[0;34m,\u001b[0m \u001b[0mdtype\u001b[0m\u001b[0;34m=\u001b[0m\u001b[0msubfeed_dtype\u001b[0m\u001b[0;34m)\u001b[0m\u001b[0;34m\u001b[0m\u001b[0m\n\u001b[0m\u001b[1;32m   1105\u001b[0m \u001b[0;34m\u001b[0m\u001b[0m\n\u001b[1;32m   1106\u001b[0m           if (not is_tensor_handle_feed and\n",
      "\u001b[0;32m/usr/local/lib/python3.6/site-packages/numpy/core/numeric.py\u001b[0m in \u001b[0;36masarray\u001b[0;34m(a, dtype, order)\u001b[0m\n\u001b[1;32m    490\u001b[0m \u001b[0;34m\u001b[0m\u001b[0m\n\u001b[1;32m    491\u001b[0m     \"\"\"\n\u001b[0;32m--> 492\u001b[0;31m     \u001b[0;32mreturn\u001b[0m \u001b[0marray\u001b[0m\u001b[0;34m(\u001b[0m\u001b[0ma\u001b[0m\u001b[0;34m,\u001b[0m \u001b[0mdtype\u001b[0m\u001b[0;34m,\u001b[0m \u001b[0mcopy\u001b[0m\u001b[0;34m=\u001b[0m\u001b[0;32mFalse\u001b[0m\u001b[0;34m,\u001b[0m \u001b[0morder\u001b[0m\u001b[0;34m=\u001b[0m\u001b[0morder\u001b[0m\u001b[0;34m)\u001b[0m\u001b[0;34m\u001b[0m\u001b[0m\n\u001b[0m\u001b[1;32m    493\u001b[0m \u001b[0;34m\u001b[0m\u001b[0m\n\u001b[1;32m    494\u001b[0m \u001b[0;34m\u001b[0m\u001b[0m\n",
      "\u001b[0;31mValueError\u001b[0m: setting an array element with a sequence."
     ]
    }
   ],
   "source": [
    "b.fit(X, y, save_path=\"../models/tmp\")"
   ]
  },
  {
   "cell_type": "code",
   "execution_count": null,
   "metadata": {},
   "outputs": [],
   "source": []
  }
 ],
 "metadata": {
  "kernelspec": {
   "display_name": "Python 3",
   "language": "python",
   "name": "python3"
  },
  "language_info": {
   "codemirror_mode": {
    "name": "ipython",
    "version": 3
   },
   "file_extension": ".py",
   "mimetype": "text/x-python",
   "name": "python",
   "nbconvert_exporter": "python",
   "pygments_lexer": "ipython3",
   "version": "3.6.5"
  }
 },
 "nbformat": 4,
 "nbformat_minor": 2
}
