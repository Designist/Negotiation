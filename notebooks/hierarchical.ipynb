{
 "cells": [
  {
   "cell_type": "markdown",
   "metadata": {},
   "source": [
    "# Hierarchical RNN for dialogue\n",
    "The baseline hierarchical model from \"Hierarchical Text Generation and Planning for Strategic Dialogue.\""
   ]
  },
  {
   "cell_type": "code",
   "execution_count": 17,
   "metadata": {},
   "outputs": [],
   "source": [
    "import numpy as np\n",
    "import pandas as pd\n",
    "import tensorflow as tf\n",
    "import warnings\n",
    "import random\n",
    "import json\n",
    "from tensorflow.python.layers.core import Dense"
   ]
  },
  {
   "cell_type": "code",
   "execution_count": 18,
   "metadata": {},
   "outputs": [],
   "source": [
    "import sys\n",
    "sys.path.append(\"../src/models/\")\n",
    "sys.path.append('../src/models/agents/')\n",
    "sys.path.append('../src/data/')\n",
    "from agent import Agent\n",
    "from parse import SentenceParser"
   ]
  },
  {
   "cell_type": "code",
   "execution_count": 19,
   "metadata": {},
   "outputs": [],
   "source": [
    "train_iterations = 300\n",
    "learning_rate = 0.1\n",
    "max_input_length = 20\n",
    "max_output_length = 20\n",
    "unk_threshold = 20"
   ]
  },
  {
   "cell_type": "markdown",
   "metadata": {},
   "source": [
    "### Sentence-level parsing\n",
    "Not dealing with the final action data for now. Training examples are lists of utterances."
   ]
  },
  {
   "cell_type": "code",
   "execution_count": 20,
   "metadata": {},
   "outputs": [
    {
     "name": "stdout",
     "output_type": "stream",
     "text": [
      "Vocab size: 502\n"
     ]
    }
   ],
   "source": [
    "parser = SentenceParser(unk_threshold=unk_threshold,\n",
    "                  input_directory=\"../data/raw/\",\n",
    "                  output_directory=\"../data/tmp/\")\n",
    "print(\"Vocab size: {}\".format(parser.vocab_size))"
   ]
  },
  {
   "cell_type": "code",
   "execution_count": 21,
   "metadata": {},
   "outputs": [],
   "source": [
    "parser.parse()"
   ]
  },
  {
   "cell_type": "code",
   "execution_count": 194,
   "metadata": {},
   "outputs": [],
   "source": [
    "parser.vocab.append('<eos>')"
   ]
  },
  {
   "cell_type": "markdown",
   "metadata": {},
   "source": [
    "### Hierarchical Agent"
   ]
  },
  {
   "cell_type": "code",
   "execution_count": 341,
   "metadata": {},
   "outputs": [],
   "source": [
    "class HierarchicalAgent(Agent):\n",
    "    def __init__(self, max_turns=25, **kwargs):\n",
    "        self.max_turns = max_turns # Max number of dialogue turns (i.e., utterances)\n",
    "        super(HierarchicalAgent, self).__init__(**kwargs)\n",
    "    \n",
    "    def _init_placeholders(self):\n",
    "        self.encoder_inputs = tf.placeholder(\n",
    "            shape=[None, None, None],\n",
    "            dtype=tf.int32,\n",
    "            name=\"encoder_inputs\")\n",
    "\n",
    "        self.encoder_lengths = tf.placeholder(\n",
    "            shape=[None, None],\n",
    "            dtype=tf.int32,\n",
    "            name=\"encoder_lengths\")\n",
    "\n",
    "        self.decoder_inputs= tf.placeholder(\n",
    "            shape=[None, None, None],\n",
    "            dtype=tf.int32,\n",
    "            name=\"decoder_inputs\")\n",
    "\n",
    "        self.decoder_targets = tf.placeholder(\n",
    "            shape=[None, None, None],\n",
    "            dtype=tf.int32,\n",
    "            name=\"decoder_targets\")\n",
    "\n",
    "        self.decoder_lengths = tf.placeholder(\n",
    "            shape=[None, None],\n",
    "            dtype=tf.int32,\n",
    "            name=\"decoder_lengths\")\n",
    "        \n",
    "    def encoding_layer(self):\n",
    "        self.encoder_cell = tf.contrib.rnn.MultiRNNCell([\n",
    "            tf.nn.rnn_cell.LSTMCell(\n",
    "                self.hidden_dim, \n",
    "                initializer=tf.random_uniform_initializer(-0.1, 0.1, seed=1),\n",
    "                reuse=tf.AUTO_REUSE)\n",
    "            for _ in range(self.num_layers)])\n",
    "        \n",
    "        self.encoder_final_states = tf.map_fn(\n",
    "            fn=self.encode_step, \n",
    "            elems=(self.embedded_encoder_inputs, self.encoder_lengths), dtype=tf.float32)\n",
    "        \n",
    "\n",
    "    def encode_step(self, args):\n",
    "        embedded_encoder_inputs = args[0]\n",
    "        encoder_lengths = args[1]\n",
    "        \n",
    "        encoder_outputs, encoder_final_state = tf.nn.dynamic_rnn(\n",
    "            cell=self.encoder_cell,\n",
    "            inputs=embedded_encoder_inputs,\n",
    "            sequence_length=encoder_lengths,\n",
    "            dtype=tf.float32)\n",
    "        \n",
    "        return encoder_final_state[-1][1]\n",
    "        \n",
    "    def context_layer(self):\n",
    "        self.context_cell = tf.contrib.rnn.MultiRNNCell([\n",
    "            tf.nn.rnn_cell.LSTMCell(\n",
    "                self.hidden_dim, \n",
    "                initializer=tf.random_uniform_initializer(-0.1, 0.1, seed=2))\n",
    "            for _ in range(self.num_layers)])\n",
    "        \n",
    "        context_outputs, context_final_state = tf.nn.dynamic_rnn(\n",
    "            cell=self.context_cell,\n",
    "            inputs=self.encoder_final_states,\n",
    "            sequence_length=[self.max_turns] * self.batch_size, # TODO: check this\n",
    "            dtype=tf.float32,\n",
    "            scope=\"context_layer\")\n",
    "        \n",
    "        self.context_outputs = context_outputs\n",
    "        \n",
    "    def decoding_layer(self):\n",
    "        self.decoder_cell = tf.contrib.rnn.MultiRNNCell([\n",
    "            tf.nn.rnn_cell.GRUCell(self.hidden_dim) for _ in range(self.num_layers)])\n",
    "        \n",
    "        self.output_layer = Dense(\n",
    "            units=self.vocab_size,\n",
    "            kernel_initializer=tf.truncated_normal_initializer(mean = 0.0, stddev=0.1))\n",
    "        \n",
    "        self.decoding_training()\n",
    "#         self.decoding_inference()\n",
    "    \n",
    "    def decoding_training(self):\n",
    "        self.training_logits = tf.map_fn(\n",
    "            fn=self.decoding_training_step,\n",
    "            elems=(self.context_outputs, self.embedded_decoder_inputs, self.decoder_lengths),\n",
    "            dtype=tf.float32)\n",
    "        \n",
    "    def decoding_training_step(self, args):\n",
    "        context_state = args[0]\n",
    "        embedded_decoder_inputs = args[1]\n",
    "        decoder_lengths = args[2]\n",
    "        \n",
    "        training_helper = tf.contrib.seq2seq.TrainingHelper(\n",
    "            inputs=embedded_decoder_inputs,\n",
    "            sequence_length=decoder_lengths,\n",
    "            time_major=False)\n",
    "        \n",
    "        training_decoder = tf.contrib.seq2seq.BasicDecoder(\n",
    "            cell=self.decoder_cell,\n",
    "            helper=training_helper,\n",
    "            initial_state=(context_state,context_state),\n",
    "            output_layer=self.output_layer)\n",
    "\n",
    "        training_outputs = tf.contrib.seq2seq.dynamic_decode(\n",
    "            decoder=training_decoder,\n",
    "            impute_finished=True,\n",
    "            maximum_iterations=self.max_output_length)[0]\n",
    "        \n",
    "        return training_outputs.rnn_output # logits\n",
    "    \n",
    "    def build_graph(self):\n",
    "        self._init_placeholders()\n",
    "        self._define_embedding()\n",
    "        self.encoding_layer()\n",
    "        self.context_layer()\n",
    "        self.decoding_layer()\n",
    "        \n",
    "    def train_dict(self, X, y):\n",
    "        decoder_inputs = [[\"<START> \" + sent for sent in dialogue] for dialogue in y]\n",
    "        decoder_targets = [[sent + \" <END>\" for sent in dialogue] for dialogue in y]\n",
    "        \n",
    "        encoder_inputs, encoder_lengths = self.prepare_data(X)\n",
    "        decoder_inputs, _ = self.prepare_data(y)\n",
    "        decoder_targets, decoder_lengths = self.prepare_data(decoder_targets)\n",
    "\n",
    "        return {self.encoder_inputs: encoder_inputs,\n",
    "            self.decoder_inputs: decoder_inputs,\n",
    "            self.decoder_targets: decoder_targets,\n",
    "            self.encoder_lengths: encoder_lengths,\n",
    "            self.decoder_lengths: decoder_lengths}\n",
    "    \n",
    "    def prepare_data(self, data):\n",
    "        batch_size = len(data)\n",
    "        max_length = self.max_input_length\n",
    "        \n",
    "        index = dict(zip(self.vocab, range(len(self.vocab))))\n",
    "        unk_index = index['$UNK']\n",
    "        \n",
    "        new_data = np.zeros((self.max_turns, batch_size, max_length), dtype='int')\n",
    "        ex_lengths = np.zeros((self.max_turns, batch_size))\n",
    "        max_num_turns = 0\n",
    "        for batch in range(batch_size):\n",
    "            num_turns = len(data[batch])\n",
    "            if num_turns > max_num_turns:\n",
    "                max_num_turns = num_turns\n",
    "            for turn in range(min(num_turns, self.max_turns)):\n",
    "                ex_len = min([len(data[batch][turn]), self.max_input_length])\n",
    "                ex_lengths[turn][batch] = ex_len\n",
    "                vals = data[batch][turn][-max_length: ].split()\n",
    "                vals = [index.get(w, unk_index) for w in vals]\n",
    "                temp = np.zeros((max_length,), dtype='int')\n",
    "                temp[0: len(vals)] = vals\n",
    "                new_data[turn][batch] = temp\n",
    "        return new_data, ex_lengths\n",
    "    \n",
    "    def get_cost_function(self, **kwargs):\n",
    "        # Need to flatten the logits (TODO: check this):\n",
    "        training_logits = tf.reshape(self.training_logits, [self.batch_size, -1, self.vocab_size])\n",
    "        decoder_targets = tf.reshape(self.decoder_targets, [self.batch_size, -1])\n",
    "        \n",
    "        decoder_lengths = tf.reduce_sum(self.decoder_lengths, 0)\n",
    "        masks = tf.sequence_mask(decoder_lengths, self.max_output_length, dtype=tf.float32, name='masks')\n",
    "        cost = tf.contrib.seq2seq.sequence_loss(\n",
    "            logits=training_logits,\n",
    "            targets=decoder_targets,\n",
    "            weights=masks)\n",
    "        return cost"
   ]
  },
  {
   "cell_type": "code",
   "execution_count": 342,
   "metadata": {},
   "outputs": [],
   "source": [
    "tf.reset_default_graph()\n",
    "a = HierarchicalAgent(vocab=parser.vocab,\n",
    "              max_iter=train_iterations,\n",
    "              eta=learning_rate,\n",
    "              max_input_length=max_input_length,\n",
    "              max_output_length=max_output_length,\n",
    "              hidden_dim=64)"
   ]
  },
  {
   "cell_type": "code",
   "execution_count": 343,
   "metadata": {},
   "outputs": [
    {
     "name": "stdout",
     "output_type": "stream",
     "text": [
      "Tensor(\"Shape:0\", shape=(3,), dtype=int32)\n"
     ]
    }
   ],
   "source": [
    "a.build_graph()"
   ]
  },
  {
   "cell_type": "markdown",
   "metadata": {},
   "source": [
    "#### Data parsing"
   ]
  },
  {
   "cell_type": "code",
   "execution_count": 344,
   "metadata": {},
   "outputs": [],
   "source": [
    "train_data = []\n",
    "with open(\"../data/tmp/train.txt\", \"r\") as train_file:\n",
    "    for line in train_file:\n",
    "        train_example = json.loads(line)\n",
    "        train_data.append((train_example[:-1], train_example))"
   ]
  },
  {
   "cell_type": "code",
   "execution_count": 345,
   "metadata": {},
   "outputs": [],
   "source": [
    "X, y = zip(*train_data)"
   ]
  },
  {
   "cell_type": "code",
   "execution_count": 346,
   "metadata": {},
   "outputs": [
    {
     "name": "stdout",
     "output_type": "stream",
     "text": [
      "Tensor(\"Shape:0\", shape=(3,), dtype=int32)\n"
     ]
    },
    {
     "ename": "InvalidArgumentError",
     "evalue": "assertion failed: [Expected shape for Tensor context_layer/sequence_length:0 is ] [25] [ but saw shape: ] [1028]\n\t [[Node: context_layer/Assert/Assert = Assert[T=[DT_STRING, DT_INT32, DT_STRING, DT_INT32], summarize=3, _device=\"/job:localhost/replica:0/task:0/device:CPU:0\"](context_layer/All, context_layer/Assert/Assert/data_0, context_layer/stack, context_layer/Assert/Assert/data_2, context_layer/Shape_1)]]\n\nCaused by op 'context_layer/Assert/Assert', defined at:\n  File \"/usr/local/Cellar/python/3.6.5_1/Frameworks/Python.framework/Versions/3.6/lib/python3.6/runpy.py\", line 193, in _run_module_as_main\n    \"__main__\", mod_spec)\n  File \"/usr/local/Cellar/python/3.6.5_1/Frameworks/Python.framework/Versions/3.6/lib/python3.6/runpy.py\", line 85, in _run_code\n    exec(code, run_globals)\n  File \"/usr/local/lib/python3.6/site-packages/ipykernel_launcher.py\", line 16, in <module>\n    app.launch_new_instance()\n  File \"/usr/local/lib/python3.6/site-packages/traitlets/config/application.py\", line 658, in launch_instance\n    app.start()\n  File \"/usr/local/lib/python3.6/site-packages/ipykernel/kernelapp.py\", line 486, in start\n    self.io_loop.start()\n  File \"/usr/local/lib/python3.6/site-packages/tornado/platform/asyncio.py\", line 127, in start\n    self.asyncio_loop.run_forever()\n  File \"/usr/local/Cellar/python/3.6.5_1/Frameworks/Python.framework/Versions/3.6/lib/python3.6/asyncio/base_events.py\", line 422, in run_forever\n    self._run_once()\n  File \"/usr/local/Cellar/python/3.6.5_1/Frameworks/Python.framework/Versions/3.6/lib/python3.6/asyncio/base_events.py\", line 1432, in _run_once\n    handle._run()\n  File \"/usr/local/Cellar/python/3.6.5_1/Frameworks/Python.framework/Versions/3.6/lib/python3.6/asyncio/events.py\", line 145, in _run\n    self._callback(*self._args)\n  File \"/usr/local/lib/python3.6/site-packages/tornado/platform/asyncio.py\", line 117, in _handle_events\n    handler_func(fileobj, events)\n  File \"/usr/local/lib/python3.6/site-packages/tornado/stack_context.py\", line 276, in null_wrapper\n    return fn(*args, **kwargs)\n  File \"/usr/local/lib/python3.6/site-packages/zmq/eventloop/zmqstream.py\", line 450, in _handle_events\n    self._handle_recv()\n  File \"/usr/local/lib/python3.6/site-packages/zmq/eventloop/zmqstream.py\", line 480, in _handle_recv\n    self._run_callback(callback, msg)\n  File \"/usr/local/lib/python3.6/site-packages/zmq/eventloop/zmqstream.py\", line 432, in _run_callback\n    callback(*args, **kwargs)\n  File \"/usr/local/lib/python3.6/site-packages/tornado/stack_context.py\", line 276, in null_wrapper\n    return fn(*args, **kwargs)\n  File \"/usr/local/lib/python3.6/site-packages/ipykernel/kernelbase.py\", line 283, in dispatcher\n    return self.dispatch_shell(stream, msg)\n  File \"/usr/local/lib/python3.6/site-packages/ipykernel/kernelbase.py\", line 233, in dispatch_shell\n    handler(stream, idents, msg)\n  File \"/usr/local/lib/python3.6/site-packages/ipykernel/kernelbase.py\", line 399, in execute_request\n    user_expressions, allow_stdin)\n  File \"/usr/local/lib/python3.6/site-packages/ipykernel/ipkernel.py\", line 208, in do_execute\n    res = shell.run_cell(code, store_history=store_history, silent=silent)\n  File \"/usr/local/lib/python3.6/site-packages/ipykernel/zmqshell.py\", line 537, in run_cell\n    return super(ZMQInteractiveShell, self).run_cell(*args, **kwargs)\n  File \"/usr/local/lib/python3.6/site-packages/IPython/core/interactiveshell.py\", line 2662, in run_cell\n    raw_cell, store_history, silent, shell_futures)\n  File \"/usr/local/lib/python3.6/site-packages/IPython/core/interactiveshell.py\", line 2785, in _run_cell\n    interactivity=interactivity, compiler=compiler, result=result)\n  File \"/usr/local/lib/python3.6/site-packages/IPython/core/interactiveshell.py\", line 2909, in run_ast_nodes\n    if self.run_code(code, result):\n  File \"/usr/local/lib/python3.6/site-packages/IPython/core/interactiveshell.py\", line 2963, in run_code\n    exec(code_obj, self.user_global_ns, self.user_ns)\n  File \"<ipython-input-346-46e5c270dec1>\", line 1, in <module>\n    a.fit(X, y)\n  File \"../src/models/agents/agent.py\", line 45, in fit\n    self.build_graph()\n  File \"<ipython-input-341-892b070d169e>\", line 118, in build_graph\n    self.context_layer()\n  File \"<ipython-input-341-892b070d169e>\", line 70, in context_layer\n    scope=\"context_layer\")\n  File \"/usr/local/lib/python3.6/site-packages/tensorflow/python/ops/rnn.py\", line 605, in dynamic_rnn\n    [_assert_has_shape(sequence_length, [batch_size])]):\n  File \"/usr/local/lib/python3.6/site-packages/tensorflow/python/ops/rnn.py\", line 600, in _assert_has_shape\n    packed_shape, \" but saw shape: \", x_shape])\n  File \"/usr/local/lib/python3.6/site-packages/tensorflow/python/util/tf_should_use.py\", line 118, in wrapped\n    return _add_should_use_warning(fn(*args, **kwargs))\n  File \"/usr/local/lib/python3.6/site-packages/tensorflow/python/ops/control_flow_ops.py\", line 143, in Assert\n    return gen_logging_ops._assert(condition, data, summarize, name=\"Assert\")\n  File \"/usr/local/lib/python3.6/site-packages/tensorflow/python/ops/gen_logging_ops.py\", line 51, in _assert\n    name=name)\n  File \"/usr/local/lib/python3.6/site-packages/tensorflow/python/framework/op_def_library.py\", line 787, in _apply_op_helper\n    op_def=op_def)\n  File \"/usr/local/lib/python3.6/site-packages/tensorflow/python/framework/ops.py\", line 3414, in create_op\n    op_def=op_def)\n  File \"/usr/local/lib/python3.6/site-packages/tensorflow/python/framework/ops.py\", line 1740, in __init__\n    self._traceback = self._graph._extract_stack()  # pylint: disable=protected-access\n\nInvalidArgumentError (see above for traceback): assertion failed: [Expected shape for Tensor context_layer/sequence_length:0 is ] [25] [ but saw shape: ] [1028]\n\t [[Node: context_layer/Assert/Assert = Assert[T=[DT_STRING, DT_INT32, DT_STRING, DT_INT32], summarize=3, _device=\"/job:localhost/replica:0/task:0/device:CPU:0\"](context_layer/All, context_layer/Assert/Assert/data_0, context_layer/stack, context_layer/Assert/Assert/data_2, context_layer/Shape_1)]]\n",
     "output_type": "error",
     "traceback": [
      "\u001b[0;31m---------------------------------------------------------------------------\u001b[0m",
      "\u001b[0;31mInvalidArgumentError\u001b[0m                      Traceback (most recent call last)",
      "\u001b[0;32m/usr/local/lib/python3.6/site-packages/tensorflow/python/client/session.py\u001b[0m in \u001b[0;36m_do_call\u001b[0;34m(self, fn, *args)\u001b[0m\n\u001b[1;32m   1321\u001b[0m     \u001b[0;32mtry\u001b[0m\u001b[0;34m:\u001b[0m\u001b[0;34m\u001b[0m\u001b[0m\n\u001b[0;32m-> 1322\u001b[0;31m       \u001b[0;32mreturn\u001b[0m \u001b[0mfn\u001b[0m\u001b[0;34m(\u001b[0m\u001b[0;34m*\u001b[0m\u001b[0margs\u001b[0m\u001b[0;34m)\u001b[0m\u001b[0;34m\u001b[0m\u001b[0m\n\u001b[0m\u001b[1;32m   1323\u001b[0m     \u001b[0;32mexcept\u001b[0m \u001b[0merrors\u001b[0m\u001b[0;34m.\u001b[0m\u001b[0mOpError\u001b[0m \u001b[0;32mas\u001b[0m \u001b[0me\u001b[0m\u001b[0;34m:\u001b[0m\u001b[0;34m\u001b[0m\u001b[0m\n",
      "\u001b[0;32m/usr/local/lib/python3.6/site-packages/tensorflow/python/client/session.py\u001b[0m in \u001b[0;36m_run_fn\u001b[0;34m(feed_dict, fetch_list, target_list, options, run_metadata)\u001b[0m\n\u001b[1;32m   1306\u001b[0m       return self._call_tf_sessionrun(\n\u001b[0;32m-> 1307\u001b[0;31m           options, feed_dict, fetch_list, target_list, run_metadata)\n\u001b[0m\u001b[1;32m   1308\u001b[0m \u001b[0;34m\u001b[0m\u001b[0m\n",
      "\u001b[0;32m/usr/local/lib/python3.6/site-packages/tensorflow/python/client/session.py\u001b[0m in \u001b[0;36m_call_tf_sessionrun\u001b[0;34m(self, options, feed_dict, fetch_list, target_list, run_metadata)\u001b[0m\n\u001b[1;32m   1408\u001b[0m           \u001b[0mself\u001b[0m\u001b[0;34m.\u001b[0m\u001b[0m_session\u001b[0m\u001b[0;34m,\u001b[0m \u001b[0moptions\u001b[0m\u001b[0;34m,\u001b[0m \u001b[0mfeed_dict\u001b[0m\u001b[0;34m,\u001b[0m \u001b[0mfetch_list\u001b[0m\u001b[0;34m,\u001b[0m \u001b[0mtarget_list\u001b[0m\u001b[0;34m,\u001b[0m\u001b[0;34m\u001b[0m\u001b[0m\n\u001b[0;32m-> 1409\u001b[0;31m           run_metadata)\n\u001b[0m\u001b[1;32m   1410\u001b[0m     \u001b[0;32melse\u001b[0m\u001b[0;34m:\u001b[0m\u001b[0;34m\u001b[0m\u001b[0m\n",
      "\u001b[0;31mInvalidArgumentError\u001b[0m: assertion failed: [Expected shape for Tensor context_layer/sequence_length:0 is ] [25] [ but saw shape: ] [1028]\n\t [[Node: context_layer/Assert/Assert = Assert[T=[DT_STRING, DT_INT32, DT_STRING, DT_INT32], summarize=3, _device=\"/job:localhost/replica:0/task:0/device:CPU:0\"](context_layer/All, context_layer/Assert/Assert/data_0, context_layer/stack, context_layer/Assert/Assert/data_2, context_layer/Shape_1)]]",
      "\nDuring handling of the above exception, another exception occurred:\n",
      "\u001b[0;31mInvalidArgumentError\u001b[0m                      Traceback (most recent call last)",
      "\u001b[0;32m<ipython-input-346-46e5c270dec1>\u001b[0m in \u001b[0;36m<module>\u001b[0;34m()\u001b[0m\n\u001b[0;32m----> 1\u001b[0;31m \u001b[0ma\u001b[0m\u001b[0;34m.\u001b[0m\u001b[0mfit\u001b[0m\u001b[0;34m(\u001b[0m\u001b[0mX\u001b[0m\u001b[0;34m,\u001b[0m \u001b[0my\u001b[0m\u001b[0;34m)\u001b[0m\u001b[0;34m\u001b[0m\u001b[0m\n\u001b[0m",
      "\u001b[0;32m~/GitHub/Negotiation/src/models/agents/agent.py\u001b[0m in \u001b[0;36mfit\u001b[0;34m(self, X, y, save_path, **kwargs)\u001b[0m\n\u001b[1;32m     61\u001b[0m \t\t\t\t_, batch_loss = self.sess.run(\n\u001b[1;32m     62\u001b[0m                                         \u001b[0;34m[\u001b[0m\u001b[0mself\u001b[0m\u001b[0;34m.\u001b[0m\u001b[0moptimizer\u001b[0m\u001b[0;34m,\u001b[0m \u001b[0mself\u001b[0m\u001b[0;34m.\u001b[0m\u001b[0mcost\u001b[0m\u001b[0;34m]\u001b[0m\u001b[0;34m,\u001b[0m\u001b[0;34m\u001b[0m\u001b[0m\n\u001b[0;32m---> 63\u001b[0;31m \t\t\t\t\tfeed_dict=self.train_dict(X_batch, y_batch))\n\u001b[0m\u001b[1;32m     64\u001b[0m                                 \u001b[0mloss\u001b[0m \u001b[0;34m+=\u001b[0m \u001b[0mbatch_loss\u001b[0m\u001b[0;34m\u001b[0m\u001b[0m\n\u001b[1;32m     65\u001b[0m                         \u001b[0mself\u001b[0m\u001b[0;34m.\u001b[0m\u001b[0merrors\u001b[0m\u001b[0;34m.\u001b[0m\u001b[0mappend\u001b[0m\u001b[0;34m(\u001b[0m\u001b[0mloss\u001b[0m\u001b[0;34m)\u001b[0m\u001b[0;34m\u001b[0m\u001b[0m\n",
      "\u001b[0;32m/usr/local/lib/python3.6/site-packages/tensorflow/python/client/session.py\u001b[0m in \u001b[0;36mrun\u001b[0;34m(self, fetches, feed_dict, options, run_metadata)\u001b[0m\n\u001b[1;32m    898\u001b[0m     \u001b[0;32mtry\u001b[0m\u001b[0;34m:\u001b[0m\u001b[0;34m\u001b[0m\u001b[0m\n\u001b[1;32m    899\u001b[0m       result = self._run(None, fetches, feed_dict, options_ptr,\n\u001b[0;32m--> 900\u001b[0;31m                          run_metadata_ptr)\n\u001b[0m\u001b[1;32m    901\u001b[0m       \u001b[0;32mif\u001b[0m \u001b[0mrun_metadata\u001b[0m\u001b[0;34m:\u001b[0m\u001b[0;34m\u001b[0m\u001b[0m\n\u001b[1;32m    902\u001b[0m         \u001b[0mproto_data\u001b[0m \u001b[0;34m=\u001b[0m \u001b[0mtf_session\u001b[0m\u001b[0;34m.\u001b[0m\u001b[0mTF_GetBuffer\u001b[0m\u001b[0;34m(\u001b[0m\u001b[0mrun_metadata_ptr\u001b[0m\u001b[0;34m)\u001b[0m\u001b[0;34m\u001b[0m\u001b[0m\n",
      "\u001b[0;32m/usr/local/lib/python3.6/site-packages/tensorflow/python/client/session.py\u001b[0m in \u001b[0;36m_run\u001b[0;34m(self, handle, fetches, feed_dict, options, run_metadata)\u001b[0m\n\u001b[1;32m   1133\u001b[0m     \u001b[0;32mif\u001b[0m \u001b[0mfinal_fetches\u001b[0m \u001b[0;32mor\u001b[0m \u001b[0mfinal_targets\u001b[0m \u001b[0;32mor\u001b[0m \u001b[0;34m(\u001b[0m\u001b[0mhandle\u001b[0m \u001b[0;32mand\u001b[0m \u001b[0mfeed_dict_tensor\u001b[0m\u001b[0;34m)\u001b[0m\u001b[0;34m:\u001b[0m\u001b[0;34m\u001b[0m\u001b[0m\n\u001b[1;32m   1134\u001b[0m       results = self._do_run(handle, final_targets, final_fetches,\n\u001b[0;32m-> 1135\u001b[0;31m                              feed_dict_tensor, options, run_metadata)\n\u001b[0m\u001b[1;32m   1136\u001b[0m     \u001b[0;32melse\u001b[0m\u001b[0;34m:\u001b[0m\u001b[0;34m\u001b[0m\u001b[0m\n\u001b[1;32m   1137\u001b[0m       \u001b[0mresults\u001b[0m \u001b[0;34m=\u001b[0m \u001b[0;34m[\u001b[0m\u001b[0;34m]\u001b[0m\u001b[0;34m\u001b[0m\u001b[0m\n",
      "\u001b[0;32m/usr/local/lib/python3.6/site-packages/tensorflow/python/client/session.py\u001b[0m in \u001b[0;36m_do_run\u001b[0;34m(self, handle, target_list, fetch_list, feed_dict, options, run_metadata)\u001b[0m\n\u001b[1;32m   1314\u001b[0m     \u001b[0;32mif\u001b[0m \u001b[0mhandle\u001b[0m \u001b[0;32mis\u001b[0m \u001b[0;32mNone\u001b[0m\u001b[0;34m:\u001b[0m\u001b[0;34m\u001b[0m\u001b[0m\n\u001b[1;32m   1315\u001b[0m       return self._do_call(_run_fn, feeds, fetches, targets, options,\n\u001b[0;32m-> 1316\u001b[0;31m                            run_metadata)\n\u001b[0m\u001b[1;32m   1317\u001b[0m     \u001b[0;32melse\u001b[0m\u001b[0;34m:\u001b[0m\u001b[0;34m\u001b[0m\u001b[0m\n\u001b[1;32m   1318\u001b[0m       \u001b[0;32mreturn\u001b[0m \u001b[0mself\u001b[0m\u001b[0;34m.\u001b[0m\u001b[0m_do_call\u001b[0m\u001b[0;34m(\u001b[0m\u001b[0m_prun_fn\u001b[0m\u001b[0;34m,\u001b[0m \u001b[0mhandle\u001b[0m\u001b[0;34m,\u001b[0m \u001b[0mfeeds\u001b[0m\u001b[0;34m,\u001b[0m \u001b[0mfetches\u001b[0m\u001b[0;34m)\u001b[0m\u001b[0;34m\u001b[0m\u001b[0m\n",
      "\u001b[0;32m/usr/local/lib/python3.6/site-packages/tensorflow/python/client/session.py\u001b[0m in \u001b[0;36m_do_call\u001b[0;34m(self, fn, *args)\u001b[0m\n\u001b[1;32m   1333\u001b[0m         \u001b[0;32mexcept\u001b[0m \u001b[0mKeyError\u001b[0m\u001b[0;34m:\u001b[0m\u001b[0;34m\u001b[0m\u001b[0m\n\u001b[1;32m   1334\u001b[0m           \u001b[0;32mpass\u001b[0m\u001b[0;34m\u001b[0m\u001b[0m\n\u001b[0;32m-> 1335\u001b[0;31m       \u001b[0;32mraise\u001b[0m \u001b[0mtype\u001b[0m\u001b[0;34m(\u001b[0m\u001b[0me\u001b[0m\u001b[0;34m)\u001b[0m\u001b[0;34m(\u001b[0m\u001b[0mnode_def\u001b[0m\u001b[0;34m,\u001b[0m \u001b[0mop\u001b[0m\u001b[0;34m,\u001b[0m \u001b[0mmessage\u001b[0m\u001b[0;34m)\u001b[0m\u001b[0;34m\u001b[0m\u001b[0m\n\u001b[0m\u001b[1;32m   1336\u001b[0m \u001b[0;34m\u001b[0m\u001b[0m\n\u001b[1;32m   1337\u001b[0m   \u001b[0;32mdef\u001b[0m \u001b[0m_extend_graph\u001b[0m\u001b[0;34m(\u001b[0m\u001b[0mself\u001b[0m\u001b[0;34m)\u001b[0m\u001b[0;34m:\u001b[0m\u001b[0;34m\u001b[0m\u001b[0m\n",
      "\u001b[0;31mInvalidArgumentError\u001b[0m: assertion failed: [Expected shape for Tensor context_layer/sequence_length:0 is ] [25] [ but saw shape: ] [1028]\n\t [[Node: context_layer/Assert/Assert = Assert[T=[DT_STRING, DT_INT32, DT_STRING, DT_INT32], summarize=3, _device=\"/job:localhost/replica:0/task:0/device:CPU:0\"](context_layer/All, context_layer/Assert/Assert/data_0, context_layer/stack, context_layer/Assert/Assert/data_2, context_layer/Shape_1)]]\n\nCaused by op 'context_layer/Assert/Assert', defined at:\n  File \"/usr/local/Cellar/python/3.6.5_1/Frameworks/Python.framework/Versions/3.6/lib/python3.6/runpy.py\", line 193, in _run_module_as_main\n    \"__main__\", mod_spec)\n  File \"/usr/local/Cellar/python/3.6.5_1/Frameworks/Python.framework/Versions/3.6/lib/python3.6/runpy.py\", line 85, in _run_code\n    exec(code, run_globals)\n  File \"/usr/local/lib/python3.6/site-packages/ipykernel_launcher.py\", line 16, in <module>\n    app.launch_new_instance()\n  File \"/usr/local/lib/python3.6/site-packages/traitlets/config/application.py\", line 658, in launch_instance\n    app.start()\n  File \"/usr/local/lib/python3.6/site-packages/ipykernel/kernelapp.py\", line 486, in start\n    self.io_loop.start()\n  File \"/usr/local/lib/python3.6/site-packages/tornado/platform/asyncio.py\", line 127, in start\n    self.asyncio_loop.run_forever()\n  File \"/usr/local/Cellar/python/3.6.5_1/Frameworks/Python.framework/Versions/3.6/lib/python3.6/asyncio/base_events.py\", line 422, in run_forever\n    self._run_once()\n  File \"/usr/local/Cellar/python/3.6.5_1/Frameworks/Python.framework/Versions/3.6/lib/python3.6/asyncio/base_events.py\", line 1432, in _run_once\n    handle._run()\n  File \"/usr/local/Cellar/python/3.6.5_1/Frameworks/Python.framework/Versions/3.6/lib/python3.6/asyncio/events.py\", line 145, in _run\n    self._callback(*self._args)\n  File \"/usr/local/lib/python3.6/site-packages/tornado/platform/asyncio.py\", line 117, in _handle_events\n    handler_func(fileobj, events)\n  File \"/usr/local/lib/python3.6/site-packages/tornado/stack_context.py\", line 276, in null_wrapper\n    return fn(*args, **kwargs)\n  File \"/usr/local/lib/python3.6/site-packages/zmq/eventloop/zmqstream.py\", line 450, in _handle_events\n    self._handle_recv()\n  File \"/usr/local/lib/python3.6/site-packages/zmq/eventloop/zmqstream.py\", line 480, in _handle_recv\n    self._run_callback(callback, msg)\n  File \"/usr/local/lib/python3.6/site-packages/zmq/eventloop/zmqstream.py\", line 432, in _run_callback\n    callback(*args, **kwargs)\n  File \"/usr/local/lib/python3.6/site-packages/tornado/stack_context.py\", line 276, in null_wrapper\n    return fn(*args, **kwargs)\n  File \"/usr/local/lib/python3.6/site-packages/ipykernel/kernelbase.py\", line 283, in dispatcher\n    return self.dispatch_shell(stream, msg)\n  File \"/usr/local/lib/python3.6/site-packages/ipykernel/kernelbase.py\", line 233, in dispatch_shell\n    handler(stream, idents, msg)\n  File \"/usr/local/lib/python3.6/site-packages/ipykernel/kernelbase.py\", line 399, in execute_request\n    user_expressions, allow_stdin)\n  File \"/usr/local/lib/python3.6/site-packages/ipykernel/ipkernel.py\", line 208, in do_execute\n    res = shell.run_cell(code, store_history=store_history, silent=silent)\n  File \"/usr/local/lib/python3.6/site-packages/ipykernel/zmqshell.py\", line 537, in run_cell\n    return super(ZMQInteractiveShell, self).run_cell(*args, **kwargs)\n  File \"/usr/local/lib/python3.6/site-packages/IPython/core/interactiveshell.py\", line 2662, in run_cell\n    raw_cell, store_history, silent, shell_futures)\n  File \"/usr/local/lib/python3.6/site-packages/IPython/core/interactiveshell.py\", line 2785, in _run_cell\n    interactivity=interactivity, compiler=compiler, result=result)\n  File \"/usr/local/lib/python3.6/site-packages/IPython/core/interactiveshell.py\", line 2909, in run_ast_nodes\n    if self.run_code(code, result):\n  File \"/usr/local/lib/python3.6/site-packages/IPython/core/interactiveshell.py\", line 2963, in run_code\n    exec(code_obj, self.user_global_ns, self.user_ns)\n  File \"<ipython-input-346-46e5c270dec1>\", line 1, in <module>\n    a.fit(X, y)\n  File \"../src/models/agents/agent.py\", line 45, in fit\n    self.build_graph()\n  File \"<ipython-input-341-892b070d169e>\", line 118, in build_graph\n    self.context_layer()\n  File \"<ipython-input-341-892b070d169e>\", line 70, in context_layer\n    scope=\"context_layer\")\n  File \"/usr/local/lib/python3.6/site-packages/tensorflow/python/ops/rnn.py\", line 605, in dynamic_rnn\n    [_assert_has_shape(sequence_length, [batch_size])]):\n  File \"/usr/local/lib/python3.6/site-packages/tensorflow/python/ops/rnn.py\", line 600, in _assert_has_shape\n    packed_shape, \" but saw shape: \", x_shape])\n  File \"/usr/local/lib/python3.6/site-packages/tensorflow/python/util/tf_should_use.py\", line 118, in wrapped\n    return _add_should_use_warning(fn(*args, **kwargs))\n  File \"/usr/local/lib/python3.6/site-packages/tensorflow/python/ops/control_flow_ops.py\", line 143, in Assert\n    return gen_logging_ops._assert(condition, data, summarize, name=\"Assert\")\n  File \"/usr/local/lib/python3.6/site-packages/tensorflow/python/ops/gen_logging_ops.py\", line 51, in _assert\n    name=name)\n  File \"/usr/local/lib/python3.6/site-packages/tensorflow/python/framework/op_def_library.py\", line 787, in _apply_op_helper\n    op_def=op_def)\n  File \"/usr/local/lib/python3.6/site-packages/tensorflow/python/framework/ops.py\", line 3414, in create_op\n    op_def=op_def)\n  File \"/usr/local/lib/python3.6/site-packages/tensorflow/python/framework/ops.py\", line 1740, in __init__\n    self._traceback = self._graph._extract_stack()  # pylint: disable=protected-access\n\nInvalidArgumentError (see above for traceback): assertion failed: [Expected shape for Tensor context_layer/sequence_length:0 is ] [25] [ but saw shape: ] [1028]\n\t [[Node: context_layer/Assert/Assert = Assert[T=[DT_STRING, DT_INT32, DT_STRING, DT_INT32], summarize=3, _device=\"/job:localhost/replica:0/task:0/device:CPU:0\"](context_layer/All, context_layer/Assert/Assert/data_0, context_layer/stack, context_layer/Assert/Assert/data_2, context_layer/Shape_1)]]\n"
     ]
    }
   ],
   "source": [
    "a.fit(X, y)"
   ]
  },
  {
   "cell_type": "markdown",
   "metadata": {},
   "source": [
    "## External RNN code\n",
    "Code from \"Hierarchical Recurrent Encoder-Decoder for Generative Context-Aware Query Suggestion\"\n",
    "by Sordoni et al. (2015)\n",
    "\n",
    "Paper: https://arxiv.org/abs/1507.02221\n",
    "Repository: https://github.com/tscheepers/hred-attention-tensorflow"
   ]
  },
  {
   "cell_type": "code",
   "execution_count": 9,
   "metadata": {},
   "outputs": [],
   "source": [
    "sys.path.append(\"../src/models/external/\")\n",
    "import layers"
   ]
  },
  {
   "cell_type": "code",
   "execution_count": 10,
   "metadata": {},
   "outputs": [],
   "source": [
    "class HierarchicalAgent(Agent):    \n",
    "    def encoding_layer(self):\n",
    "        self.eoq_mask = tf.expand_dims(tf.cast(tf.not_equal(self.encoder_inputs, self.vocab.index(\"<eos>\")), tf.float32), 2)\n",
    "        \n",
    "        self.sentence_encoder = tf.scan(\n",
    "            lambda result_prev, x: layers.gru_layer_with_reset(\n",
    "                result_prev[1],\n",
    "                x,\n",
    "                name='sentence_encoder',\n",
    "                x_dim=self.embed_dim,\n",
    "                y_dim=self.hidden_dim,\n",
    "                reuse=tf.AUTO_REUSE\n",
    "            ),\n",
    "            (self.embedded_encoder_inputs, self.eoq_mask),\n",
    "            initializer=tf.zeros((2, self.batch_size, self.hidden_dim))\n",
    "        )\n",
    "        \n",
    "        self.encoder_final_states, _ = tf.unstack(self.sentence_encoder, axis=1)\n",
    "        \n",
    "    def context_layer(self):\n",
    "        context_encoder = tf.scan(\n",
    "            lambda result_prev, x: layers.gru_layer_with_retain(\n",
    "                result_prev[1],\n",
    "                x,\n",
    "                name='context_encoder',\n",
    "                x_dim=self.hidden_dim,\n",
    "                y_dim=self.context_dim,\n",
    "                reuse=tf.AUTO_REUSE\n",
    "            ),\n",
    "            (self.encoder_final_states, self.eoq_mask),\n",
    "            initializer=tf.zeros((2, self.batch_size, self.context_dim))\n",
    "        )\n",
    "        \n",
    "        self.context_final_states, _ = tf.unstack(context_encoder, axis=1)\n",
    "\n",
    "    def decoding_layer(self):\n",
    "        num_of_steps = tf.shape(self.encoder_inputs)[0]\n",
    "        \n",
    "        decoder = tf.scan(\n",
    "            lambda result_prev, x: layers.gru_layer_with_state_reset(\n",
    "                result_prev,\n",
    "                x,\n",
    "                name='decoder',\n",
    "                x_dim=self.embed_dim,\n",
    "                h_dim=self.context_dim,\n",
    "                y_dim=self.hidden_dim,\n",
    "                reuse=tf.AUTO_REUSE\n",
    "            ),\n",
    "            (self.embedded_encoder_inputs, self.eoq_mask, self.context_final_states),\n",
    "            initializer=tf.zeros((self.batch_size, self.hidden_dim))\n",
    "        )\n",
    "        \n",
    "        flatten_decoder = tf.reshape(decoder, (-1, self.hidden_dim))\n",
    "        flatten_embedder = tf.reshape(self.embedded_encoder_inputs, (-1, self.embed_dim))\n",
    "        \n",
    "        output_layer = layers.output_layer(\n",
    "            flatten_embedder,\n",
    "            flatten_decoder,\n",
    "            x_dim=self.embed_dim,\n",
    "            h_dim=self.hidden_dim,\n",
    "            y_dim=self.vocab_size,\n",
    "            reuse=tf.AUTO_REUSE\n",
    "        )\n",
    "        \n",
    "        flatten_logits = layers.logits_layer(\n",
    "            output_layer,\n",
    "            x_dim=self.vocab_size,\n",
    "            y_dim=self.vocab_size,\n",
    "            reuse=tf.AUTO_REUSE\n",
    "        )\n",
    "        \n",
    "        self.training_logits = tf.reshape(flatten_logits, (num_of_steps, self.batch_size, self.vocab_size))\n",
    "    \n",
    "    def build_graph(self):\n",
    "        self.context_dim = 101\n",
    "        \n",
    "        self._init_placeholders()\n",
    "        self._define_embedding()\n",
    "        self.encoding_layer()\n",
    "        self.context_layer()\n",
    "        self.decoding_layer()"
   ]
  },
  {
   "cell_type": "code",
   "execution_count": 11,
   "metadata": {},
   "outputs": [],
   "source": [
    "b = HierarchicalAgent(vocab=parser.vocab,\n",
    "              max_iter=train_iterations,\n",
    "              eta=learning_rate,\n",
    "              max_input_length=max_input_length,\n",
    "              max_output_length=max_output_length,\n",
    "              hidden_dim=64)"
   ]
  },
  {
   "cell_type": "code",
   "execution_count": 12,
   "metadata": {},
   "outputs": [],
   "source": [
    "# b.build_graph()"
   ]
  },
  {
   "cell_type": "markdown",
   "metadata": {},
   "source": [
    "### Model training"
   ]
  },
  {
   "cell_type": "code",
   "execution_count": 13,
   "metadata": {},
   "outputs": [],
   "source": [
    "train_data = []\n",
    "with open(\"../data/processed/train.txt\", \"r\") as train_file:\n",
    "    for line in train_file:\n",
    "        train_example = json.loads(line)\n",
    "        train_data.append((\n",
    "            train_example[\"input\"],\n",
    "            train_example[\"output\"][0].split()))"
   ]
  },
  {
   "cell_type": "code",
   "execution_count": 16,
   "metadata": {},
   "outputs": [],
   "source": [
    "X, y = zip(*train_data)\n",
    "X = y"
   ]
  },
  {
   "cell_type": "code",
   "execution_count": 17,
   "metadata": {},
   "outputs": [
    {
     "ename": "ValueError",
     "evalue": "setting an array element with a sequence.",
     "output_type": "error",
     "traceback": [
      "\u001b[0;31m---------------------------------------------------------------------------\u001b[0m",
      "\u001b[0;31mValueError\u001b[0m                                Traceback (most recent call last)",
      "\u001b[0;32m<ipython-input-17-df2cb01967d0>\u001b[0m in \u001b[0;36m<module>\u001b[0;34m()\u001b[0m\n\u001b[0;32m----> 1\u001b[0;31m \u001b[0mb\u001b[0m\u001b[0;34m.\u001b[0m\u001b[0mfit\u001b[0m\u001b[0;34m(\u001b[0m\u001b[0mX\u001b[0m\u001b[0;34m,\u001b[0m \u001b[0my\u001b[0m\u001b[0;34m,\u001b[0m \u001b[0msave_path\u001b[0m\u001b[0;34m=\u001b[0m\u001b[0;34m\"../models/tmp\"\u001b[0m\u001b[0;34m)\u001b[0m\u001b[0;34m\u001b[0m\u001b[0m\n\u001b[0m",
      "\u001b[0;32m~/GitHub/Negotiation/src/models/agents/agent.py\u001b[0m in \u001b[0;36mfit\u001b[0;34m(self, X, y, save_path, **kwargs)\u001b[0m\n\u001b[1;32m     61\u001b[0m \t\t\t\t_, batch_loss = self.sess.run(\n\u001b[1;32m     62\u001b[0m                                         \u001b[0;34m[\u001b[0m\u001b[0mself\u001b[0m\u001b[0;34m.\u001b[0m\u001b[0moptimizer\u001b[0m\u001b[0;34m,\u001b[0m \u001b[0mself\u001b[0m\u001b[0;34m.\u001b[0m\u001b[0mcost\u001b[0m\u001b[0;34m]\u001b[0m\u001b[0;34m,\u001b[0m\u001b[0;34m\u001b[0m\u001b[0m\n\u001b[0;32m---> 63\u001b[0;31m \t\t\t\t\tfeed_dict=self.train_dict(X_batch, y_batch))\n\u001b[0m\u001b[1;32m     64\u001b[0m                                 \u001b[0mloss\u001b[0m \u001b[0;34m+=\u001b[0m \u001b[0mbatch_loss\u001b[0m\u001b[0;34m\u001b[0m\u001b[0m\n\u001b[1;32m     65\u001b[0m                         \u001b[0mself\u001b[0m\u001b[0;34m.\u001b[0m\u001b[0merrors\u001b[0m\u001b[0;34m.\u001b[0m\u001b[0mappend\u001b[0m\u001b[0;34m(\u001b[0m\u001b[0mloss\u001b[0m\u001b[0;34m)\u001b[0m\u001b[0;34m\u001b[0m\u001b[0m\n",
      "\u001b[0;32m/usr/local/lib/python3.6/site-packages/tensorflow/python/client/session.py\u001b[0m in \u001b[0;36mrun\u001b[0;34m(self, fetches, feed_dict, options, run_metadata)\u001b[0m\n\u001b[1;32m    898\u001b[0m     \u001b[0;32mtry\u001b[0m\u001b[0;34m:\u001b[0m\u001b[0;34m\u001b[0m\u001b[0m\n\u001b[1;32m    899\u001b[0m       result = self._run(None, fetches, feed_dict, options_ptr,\n\u001b[0;32m--> 900\u001b[0;31m                          run_metadata_ptr)\n\u001b[0m\u001b[1;32m    901\u001b[0m       \u001b[0;32mif\u001b[0m \u001b[0mrun_metadata\u001b[0m\u001b[0;34m:\u001b[0m\u001b[0;34m\u001b[0m\u001b[0m\n\u001b[1;32m    902\u001b[0m         \u001b[0mproto_data\u001b[0m \u001b[0;34m=\u001b[0m \u001b[0mtf_session\u001b[0m\u001b[0;34m.\u001b[0m\u001b[0mTF_GetBuffer\u001b[0m\u001b[0;34m(\u001b[0m\u001b[0mrun_metadata_ptr\u001b[0m\u001b[0;34m)\u001b[0m\u001b[0;34m\u001b[0m\u001b[0m\n",
      "\u001b[0;32m/usr/local/lib/python3.6/site-packages/tensorflow/python/client/session.py\u001b[0m in \u001b[0;36m_run\u001b[0;34m(self, handle, fetches, feed_dict, options, run_metadata)\u001b[0m\n\u001b[1;32m   1102\u001b[0m             \u001b[0mfeed_handles\u001b[0m\u001b[0;34m[\u001b[0m\u001b[0msubfeed_t\u001b[0m\u001b[0;34m]\u001b[0m \u001b[0;34m=\u001b[0m \u001b[0msubfeed_val\u001b[0m\u001b[0;34m\u001b[0m\u001b[0m\n\u001b[1;32m   1103\u001b[0m           \u001b[0;32melse\u001b[0m\u001b[0;34m:\u001b[0m\u001b[0;34m\u001b[0m\u001b[0m\n\u001b[0;32m-> 1104\u001b[0;31m             \u001b[0mnp_val\u001b[0m \u001b[0;34m=\u001b[0m \u001b[0mnp\u001b[0m\u001b[0;34m.\u001b[0m\u001b[0masarray\u001b[0m\u001b[0;34m(\u001b[0m\u001b[0msubfeed_val\u001b[0m\u001b[0;34m,\u001b[0m \u001b[0mdtype\u001b[0m\u001b[0;34m=\u001b[0m\u001b[0msubfeed_dtype\u001b[0m\u001b[0;34m)\u001b[0m\u001b[0;34m\u001b[0m\u001b[0m\n\u001b[0m\u001b[1;32m   1105\u001b[0m \u001b[0;34m\u001b[0m\u001b[0m\n\u001b[1;32m   1106\u001b[0m           if (not is_tensor_handle_feed and\n",
      "\u001b[0;32m/usr/local/lib/python3.6/site-packages/numpy/core/numeric.py\u001b[0m in \u001b[0;36masarray\u001b[0;34m(a, dtype, order)\u001b[0m\n\u001b[1;32m    490\u001b[0m \u001b[0;34m\u001b[0m\u001b[0m\n\u001b[1;32m    491\u001b[0m     \"\"\"\n\u001b[0;32m--> 492\u001b[0;31m     \u001b[0;32mreturn\u001b[0m \u001b[0marray\u001b[0m\u001b[0;34m(\u001b[0m\u001b[0ma\u001b[0m\u001b[0;34m,\u001b[0m \u001b[0mdtype\u001b[0m\u001b[0;34m,\u001b[0m \u001b[0mcopy\u001b[0m\u001b[0;34m=\u001b[0m\u001b[0;32mFalse\u001b[0m\u001b[0;34m,\u001b[0m \u001b[0morder\u001b[0m\u001b[0;34m=\u001b[0m\u001b[0morder\u001b[0m\u001b[0;34m)\u001b[0m\u001b[0;34m\u001b[0m\u001b[0m\n\u001b[0m\u001b[1;32m    493\u001b[0m \u001b[0;34m\u001b[0m\u001b[0m\n\u001b[1;32m    494\u001b[0m \u001b[0;34m\u001b[0m\u001b[0m\n",
      "\u001b[0;31mValueError\u001b[0m: setting an array element with a sequence."
     ]
    }
   ],
   "source": [
    "b.fit(X, y, save_path=\"../models/tmp\")"
   ]
  },
  {
   "cell_type": "code",
   "execution_count": null,
   "metadata": {},
   "outputs": [],
   "source": []
  }
 ],
 "metadata": {
  "kernelspec": {
   "display_name": "Python 3",
   "language": "python",
   "name": "python3"
  },
  "language_info": {
   "codemirror_mode": {
    "name": "ipython",
    "version": 3
   },
   "file_extension": ".py",
   "mimetype": "text/x-python",
   "name": "python",
   "nbconvert_exporter": "python",
   "pygments_lexer": "ipython3",
   "version": "3.6.5"
  }
 },
 "nbformat": 4,
 "nbformat_minor": 2
}
