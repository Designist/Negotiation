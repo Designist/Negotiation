{
 "cells": [
  {
   "cell_type": "markdown",
   "metadata": {},
   "source": [
    "# Hierarchical RNN for dialogue\n",
    "The baseline hierarchical model from \"Hierarchical Text Generation and Planning for Strategic Dialogue.\""
   ]
  },
  {
   "cell_type": "code",
   "execution_count": 1,
   "metadata": {},
   "outputs": [],
   "source": [
    "import numpy as np\n",
    "import pandas as pd\n",
    "import tensorflow as tf\n",
    "import warnings\n",
    "import random\n",
    "import json\n",
    "from tensorflow.python.layers.core import Dense"
   ]
  },
  {
   "cell_type": "code",
   "execution_count": 2,
   "metadata": {},
   "outputs": [],
   "source": [
    "import sys\n",
    "sys.path.append(\"../src/models/\")\n",
    "sys.path.append('../src/models/agents/')\n",
    "sys.path.append('../src/data/')\n",
    "from agent import Agent\n",
    "from parse import SentenceParser"
   ]
  },
  {
   "cell_type": "code",
   "execution_count": 3,
   "metadata": {},
   "outputs": [],
   "source": [
    "train_iterations = 30\n",
    "learning_rate = 0.1\n",
    "max_length = 22\n",
    "unk_threshold = 20"
   ]
  },
  {
   "cell_type": "markdown",
   "metadata": {},
   "source": [
    "### Sentence-level parsing\n",
    "Not dealing with the final action data for now. Training examples are lists of utterances."
   ]
  },
  {
   "cell_type": "code",
   "execution_count": 4,
   "metadata": {},
   "outputs": [
    {
     "name": "stdout",
     "output_type": "stream",
     "text": [
      "Vocab size: 502\n"
     ]
    }
   ],
   "source": [
    "parser = SentenceParser(unk_threshold=unk_threshold,\n",
    "                  input_directory=\"../data/raw/\",\n",
    "                  output_directory=\"../data/tmp/\")\n",
    "print(\"Vocab size: {}\".format(parser.vocab_size))"
   ]
  },
  {
   "cell_type": "code",
   "execution_count": 5,
   "metadata": {},
   "outputs": [],
   "source": [
    "parser.parse()"
   ]
  },
  {
   "cell_type": "code",
   "execution_count": 6,
   "metadata": {},
   "outputs": [],
   "source": [
    "parser.vocab.append('<eos>')"
   ]
  },
  {
   "cell_type": "markdown",
   "metadata": {},
   "source": [
    "### Hierarchical Agent"
   ]
  },
  {
   "cell_type": "code",
   "execution_count": 7,
   "metadata": {},
   "outputs": [],
   "source": [
    "class HierarchicalAgent(Agent):\n",
    "    def __init__(self, max_turns=25, **kwargs):\n",
    "        self.max_turns = max_turns # Max number of dialogue turns (i.e., utterances)\n",
    "        super(HierarchicalAgent, self).__init__(**kwargs)\n",
    "    \n",
    "    def _init_placeholders(self):\n",
    "        self.encoder_inputs = tf.placeholder(\n",
    "            shape=[self.max_turns, self.batch_size, self.max_input_length],\n",
    "            dtype=tf.int32,\n",
    "            name=\"encoder_inputs\")\n",
    "\n",
    "        self.encoder_lengths = tf.placeholder(\n",
    "            shape=[self.max_turns, self.batch_size],\n",
    "            dtype=tf.int32,\n",
    "            name=\"encoder_lengths\")\n",
    "\n",
    "        self.decoder_inputs= tf.placeholder(\n",
    "            shape=[self.max_turns, self.batch_size, self.max_output_length],\n",
    "            dtype=tf.int32,\n",
    "            name=\"decoder_inputs\")\n",
    "\n",
    "        self.decoder_targets = tf.placeholder(\n",
    "            shape=[self.max_turns, self.batch_size, self.max_output_length],\n",
    "            dtype=tf.int32,\n",
    "            name=\"decoder_targets\")\n",
    "\n",
    "        self.decoder_lengths = tf.placeholder(\n",
    "            shape=[self.max_turns, self.batch_size],\n",
    "            dtype=tf.int32,\n",
    "            name=\"decoder_lengths\")\n",
    "        \n",
    "    def encoding_layer(self):\n",
    "        self.encoder_cell = tf.contrib.rnn.MultiRNNCell([\n",
    "            tf.nn.rnn_cell.LSTMCell(\n",
    "                self.hidden_dim, \n",
    "                initializer=tf.random_uniform_initializer(-0.1, 0.1, seed=1),\n",
    "                reuse=tf.AUTO_REUSE)\n",
    "            for _ in range(self.num_layers)])\n",
    "        \n",
    "        self.encoder_final_states = tf.map_fn(\n",
    "            fn=self.encode_step, \n",
    "            elems=(self.embedded_encoder_inputs, self.encoder_lengths), dtype=tf.float32)\n",
    "\n",
    "    def encode_step(self, args):\n",
    "        embedded_encoder_inputs = args[0]\n",
    "        encoder_lengths = args[1]\n",
    "        \n",
    "        encoder_outputs, encoder_final_state = tf.nn.dynamic_rnn(\n",
    "            cell=self.encoder_cell,\n",
    "            inputs=embedded_encoder_inputs,\n",
    "            sequence_length=encoder_lengths,\n",
    "            dtype=tf.float32)\n",
    "        \n",
    "        return encoder_final_state[-1][1]\n",
    "        \n",
    "    def context_layer(self):\n",
    "        self.context_cell = tf.contrib.rnn.MultiRNNCell([\n",
    "            tf.nn.rnn_cell.LSTMCell(\n",
    "                self.hidden_dim, \n",
    "                initializer=tf.random_uniform_initializer(-0.1, 0.1, seed=2))\n",
    "            for _ in range(self.num_layers)])\n",
    "        \n",
    "        context_outputs, context_final_state = tf.nn.dynamic_rnn(\n",
    "            cell=self.context_cell,\n",
    "            inputs=self.encoder_final_states,\n",
    "            sequence_length=[self.max_turns] * self.batch_size,\n",
    "            dtype=tf.float32,\n",
    "            scope=\"context_layer\",\n",
    "            time_major=True)\n",
    "        \n",
    "        self.context_outputs = context_outputs\n",
    "        \n",
    "    def decoding_layer(self):\n",
    "        self.decoder_cell = tf.contrib.rnn.MultiRNNCell([\n",
    "            tf.nn.rnn_cell.GRUCell(self.hidden_dim) for _ in range(self.num_layers)])\n",
    "        \n",
    "        self.output_layer = Dense(\n",
    "            units=self.vocab_size,\n",
    "            kernel_initializer=tf.truncated_normal_initializer(mean = 0.0, stddev=0.1))\n",
    "        \n",
    "        self.decoding_training()\n",
    "#         self.decoding_inference()\n",
    "    \n",
    "    def decoding_training(self):\n",
    "#         self.training_logits = tf.map_fn(\n",
    "#             fn=self.decoding_training_step,\n",
    "#             elems=(self.context_outputs, self.embedded_decoder_inputs, self.decoder_lengths),\n",
    "#             dtype=tf.float32)\n",
    "        \n",
    "        ta = tf.TensorArray(dtype=tf.float32, size=self.max_turns)\n",
    "        \n",
    "        _, training_logits = tf.while_loop(\n",
    "            cond=lambda i,t: i < self.max_turns,\n",
    "            body=self.decoding_training_step,\n",
    "            loop_vars=[0, ta])\n",
    "        \n",
    "        self.training_logits = training_logits.stack()\n",
    "        \n",
    "    def decoding_training_step(self, i, ta):\n",
    "        context_state = tf.gather(self.context_outputs, 0)\n",
    "        embedded_decoder_inputs = tf.gather(self.embedded_decoder_inputs, 0)\n",
    "        decoder_lengths = tf.gather(self.decoder_lengths, 0)\n",
    "        \n",
    "        training_helper = tf.contrib.seq2seq.TrainingHelper(\n",
    "            inputs=embedded_decoder_inputs,\n",
    "            sequence_length=decoder_lengths,\n",
    "            time_major=False)\n",
    "        \n",
    "        training_decoder = tf.contrib.seq2seq.BasicDecoder(\n",
    "            cell=self.decoder_cell,\n",
    "            helper=training_helper,\n",
    "            initial_state=(context_state,context_state),\n",
    "            output_layer=self.output_layer)\n",
    "\n",
    "        training_outputs = tf.contrib.seq2seq.dynamic_decode(\n",
    "            decoder=training_decoder,\n",
    "            impute_finished=True,\n",
    "            maximum_iterations=self.max_output_length)[0]\n",
    "        \n",
    "        return (i+1, ta.write(i, training_outputs.rnn_output)) # logits\n",
    "    \n",
    "    def build_graph(self):\n",
    "        self._init_placeholders()\n",
    "        self._define_embedding()\n",
    "        self.encoding_layer()\n",
    "        self.context_layer()\n",
    "        self.decoding_layer()\n",
    "        \n",
    "    def train_dict(self, X, y):\n",
    "        decoder_inputs = [[\"<START> \" + sent for sent in dialogue] for dialogue in y]\n",
    "        decoder_targets = [[sent + \" <END>\" for sent in dialogue] for dialogue in y]\n",
    "        \n",
    "        encoder_inputs, encoder_lengths = self.prepare_data(X)\n",
    "        decoder_inputs, _ = self.prepare_data(y)\n",
    "        decoder_targets, decoder_lengths = self.prepare_data(decoder_targets)\n",
    "        \n",
    "        return {self.encoder_inputs: encoder_inputs,\n",
    "            self.decoder_inputs: decoder_inputs,\n",
    "            self.decoder_targets: decoder_targets,\n",
    "            self.encoder_lengths: encoder_lengths,\n",
    "            self.decoder_lengths: decoder_lengths}\n",
    "    \n",
    "    def prepare_data(self, data):\n",
    "        batch_size = len(data)\n",
    "        max_length = self.max_input_length\n",
    "        \n",
    "        index = dict(zip(self.vocab, range(len(self.vocab))))\n",
    "        unk_index = index['$UNK']\n",
    "        \n",
    "        new_data = np.zeros((self.max_turns, batch_size, max_length), dtype='int')\n",
    "        ex_lengths = np.zeros((self.max_turns, batch_size))\n",
    "        max_num_turns = 0\n",
    "        for batch in range(batch_size):\n",
    "            num_turns = len(data[batch])\n",
    "            if num_turns > max_num_turns:\n",
    "                max_num_turns = num_turns\n",
    "            for turn in range(min(num_turns, self.max_turns)):\n",
    "                # Calculate the length of each utterance:\n",
    "                ex_len = min([len(data[batch][turn].split()), self.max_input_length])\n",
    "#                 ex_lengths[turn][batch] = ex_len\n",
    "                ex_lengths[turn][batch] = self.max_input_length # a quick hack\n",
    "                vals = data[batch][turn][-max_length: ].split()\n",
    "                vals = [index.get(w, unk_index) for w in vals]\n",
    "                temp = np.zeros((max_length,), dtype='int')\n",
    "                temp[0: len(vals)] = vals\n",
    "                new_data[turn][batch] = temp\n",
    "            \n",
    "        return new_data, ex_lengths\n",
    "    \n",
    "    def get_cost_function(self, **kwargs):\n",
    "        seq_length = self.max_turns*self.max_output_length\n",
    "        \n",
    "        training_logits = tf.transpose(self.training_logits, [1, 0, 2, 3])\n",
    "        training_logits = tf.reshape(training_logits, [self.batch_size, seq_length, self.vocab_size])\n",
    "        \n",
    "        decoder_targets = tf.transpose(self.decoder_targets, [1, 0, 2])\n",
    "        decoder_targets = tf.reshape(decoder_targets, [self.batch_size, seq_length])\n",
    "        \n",
    "        # TODO: check this\n",
    "        decoder_lengths = tf.reduce_sum(self.decoder_lengths, 0)\n",
    "        masks = tf.sequence_mask(decoder_lengths, seq_length, dtype=tf.float32, name='masks')\n",
    "        cost = tf.contrib.seq2seq.sequence_loss(\n",
    "            logits=training_logits,\n",
    "            targets=decoder_targets,\n",
    "            weights=masks)\n",
    "        return cost"
   ]
  },
  {
   "cell_type": "code",
   "execution_count": 8,
   "metadata": {},
   "outputs": [],
   "source": [
    "tf.reset_default_graph()\n",
    "a = HierarchicalAgent(vocab=parser.vocab,\n",
    "              max_iter=train_iterations,\n",
    "              eta=learning_rate,\n",
    "              max_input_length=max_length,\n",
    "              max_output_length=max_length,\n",
    "              hidden_dim=64)"
   ]
  },
  {
   "cell_type": "code",
   "execution_count": 9,
   "metadata": {},
   "outputs": [],
   "source": [
    "a.build_graph()"
   ]
  },
  {
   "cell_type": "markdown",
   "metadata": {},
   "source": [
    "#### Data parsing"
   ]
  },
  {
   "cell_type": "code",
   "execution_count": 10,
   "metadata": {},
   "outputs": [],
   "source": [
    "train_data = []\n",
    "with open(\"../data/tmp/train.txt\", \"r\") as train_file:\n",
    "    for line in train_file:\n",
    "        train_example = json.loads(line)\n",
    "        train_data.append(([\"\"] + train_example[:-1], train_example))"
   ]
  },
  {
   "cell_type": "code",
   "execution_count": 11,
   "metadata": {},
   "outputs": [],
   "source": [
    "X, y = zip(*train_data)"
   ]
  },
  {
   "cell_type": "code",
   "execution_count": null,
   "metadata": {},
   "outputs": [
    {
     "name": "stderr",
     "output_type": "stream",
     "text": [
      "Iteration 3: loss: 10.483997464179993"
     ]
    }
   ],
   "source": [
    "a.fit(X, y)"
   ]
  },
  {
   "cell_type": "code",
   "execution_count": null,
   "metadata": {},
   "outputs": [],
   "source": []
  }
 ],
 "metadata": {
  "kernelspec": {
   "display_name": "Python 3",
   "language": "python",
   "name": "python3"
  },
  "language_info": {
   "codemirror_mode": {
    "name": "ipython",
    "version": 3
   },
   "file_extension": ".py",
   "mimetype": "text/x-python",
   "name": "python",
   "nbconvert_exporter": "python",
   "pygments_lexer": "ipython3",
   "version": "3.6.5"
  }
 },
 "nbformat": 4,
 "nbformat_minor": 2
}
