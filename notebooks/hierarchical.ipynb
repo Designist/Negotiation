{
 "cells": [
  {
   "cell_type": "markdown",
   "metadata": {},
   "source": [
    "# Hierarchical RNN for dialogue\n",
    "The baseline hierarchical model from \"Hierarchical Text Generation and Planning for Strategic Dialogue.\""
   ]
  },
  {
   "cell_type": "code",
   "execution_count": 3,
   "metadata": {},
   "outputs": [],
   "source": [
    "import numpy as np\n",
    "import pandas as pd\n",
    "import tensorflow as tf\n",
    "import warnings\n",
    "import random\n",
    "import json\n",
    "from tensorflow.python.layers.core import Dense"
   ]
  },
  {
   "cell_type": "code",
   "execution_count": 4,
   "metadata": {},
   "outputs": [],
   "source": [
    "import sys\n",
    "sys.path.append(\"../src/models/\")\n",
    "sys.path.append('../src/models/agents/')\n",
    "sys.path.append('../src/data/')\n",
    "from agent import Agent\n",
    "from parse import SentenceParser"
   ]
  },
  {
   "cell_type": "code",
   "execution_count": 5,
   "metadata": {},
   "outputs": [],
   "source": [
    "train_iterations = 300\n",
    "learning_rate = 0.1\n",
    "max_input_length = 6\n",
    "max_output_length = 20\n",
    "unk_threshold = 20"
   ]
  },
  {
   "cell_type": "markdown",
   "metadata": {},
   "source": [
    "### Sentence-level parsing\n",
    "Not dealing with the final action data for now. Training examples are lists of utterances."
   ]
  },
  {
   "cell_type": "code",
   "execution_count": 6,
   "metadata": {},
   "outputs": [
    {
     "name": "stdout",
     "output_type": "stream",
     "text": [
      "Vocab size: 502\n"
     ]
    }
   ],
   "source": [
    "parser = SentenceParser(unk_threshold=unk_threshold,\n",
    "                  input_directory=\"../data/raw/\",\n",
    "                  output_directory=\"../data/tmp/\")\n",
    "print(\"Vocab size: {}\".format(parser.vocab_size))"
   ]
  },
  {
   "cell_type": "code",
   "execution_count": 7,
   "metadata": {},
   "outputs": [],
   "source": [
    "parser.parse()"
   ]
  },
  {
   "cell_type": "markdown",
   "metadata": {},
   "source": [
    "### Hierarchical Agent"
   ]
  },
  {
   "cell_type": "code",
   "execution_count": 8,
   "metadata": {},
   "outputs": [],
   "source": [
    "class HierarchicalAgent(Agent):    \n",
    "    def _init_placeholders(self):\n",
    "        self.encoder_inputs = tf.placeholder(\n",
    "            shape=[None, None, None],\n",
    "            dtype=tf.int32,\n",
    "            name=\"encoder_inputs\")\n",
    "\n",
    "        self.encoder_lengths = tf.placeholder(\n",
    "            shape=[None, None],\n",
    "            dtype=tf.int32,\n",
    "            name=\"encoder_lengths\")\n",
    "\n",
    "        self.decoder_inputs= tf.placeholder(\n",
    "            shape=[None, None, None],\n",
    "            dtype=tf.int32,\n",
    "            name=\"decoder_inputs\")\n",
    "\n",
    "        self.decoder_targets = tf.placeholder(\n",
    "            shape=[None, None, None],\n",
    "            dtype=tf.int32,\n",
    "            name=\"decoder_targets\")\n",
    "\n",
    "        self.decoder_lengths = tf.placeholder(\n",
    "            shape=[None, None],\n",
    "            dtype=tf.int32,\n",
    "            name=\"decoder_lengths\")\n",
    "        \n",
    "    def encoding_layer(self):\n",
    "        self.encoder_cell = tf.contrib.rnn.MultiRNNCell([\n",
    "            tf.nn.rnn_cell.LSTMCell(\n",
    "                self.hidden_dim, \n",
    "                initializer=tf.random_uniform_initializer(-0.1, 0.1, seed=1))\n",
    "            for _ in range(self.num_layers)])\n",
    "        \n",
    "        self.encoder_final_states = tf.map_fn(encode_step, self.embedded_encoder_inputs)\n",
    "    \n",
    "    def encode_step(self, embedded_encoder_inputs):\n",
    "        encoder_outputs, encoder_final_state = tf.nn.dynamic_rnn(\n",
    "            cell=self.encoder_cell,\n",
    "            inputs=embedded_encoder_inputs,\n",
    "            sequence_length=self.encoder_lengths,\n",
    "            dtype=tf.float32,\n",
    "            scope=\"encoding_layer\")\n",
    "        return encoder_final_state\n",
    "        \n",
    "    def context_layer(self):\n",
    "        self.context_cell = tf.contrib.rnn.MultiRNNCell([\n",
    "            tf.nn.rnn_cell.LSTMCell(\n",
    "                self.hidden_dim, \n",
    "                initializer=tf.random_uniform_initializer(-0.1, 0.1, seed=2))\n",
    "            for _ in range(self.num_layers)])\n",
    "        \n",
    "        # Edit sequence length:\n",
    "        context_outputs, context_final_state = tf.nn.dynamic_rnn(\n",
    "            cell=self.context_cell,\n",
    "            inputs=self.encoder_final_states,\n",
    "            sequence_length=self.encoder_lengths,\n",
    "            dtype=tf.float32,\n",
    "            scope=\"context_layer\")\n",
    "        \n",
    "    def decoding_layer(self):\n",
    "        \n",
    "    \n",
    "    def decoding_training(self):\n",
    "        self.decoder_cell = tf.contrib.rnn.MultiRNNCell([\n",
    "            tf.nn.rnn_cell.LSTMCell(\n",
    "            self.hidden_dim, \n",
    "            initializer=tf.random_uniform_initializer(-0.1, 0.1, seed=2)) for _ in range(self.num_layers)])\n",
    "\n",
    "        self.output_layer = Dense(\n",
    "            units=self.vocab_size,\n",
    "            kernel_initializer=tf.truncated_normal_initializer(mean = 0.0, stddev=0.1))\n",
    "\n",
    "        training_helper = tf.contrib.seq2seq.TrainingHelper(\n",
    "            inputs=self.embedded_decoder_inputs,\n",
    "            sequence_length=self.decoder_lengths,\n",
    "            time_major=False)\n",
    "        \n",
    "        training_decoder = tf.contrib.seq2seq.BasicDecoder(\n",
    "            cell=self.decoder_cell,\n",
    "            helper=training_helper,\n",
    "            initial_state=self.encoder_final_state,\n",
    "            output_layer=self.output_layer)\n",
    "\n",
    "        training_outputs = tf.contrib.seq2seq.dynamic_decode(\n",
    "            decoder=training_decoder,\n",
    "            impute_finished=True,\n",
    "            maximum_iterations=self.max_output_length)[0]\n",
    "        \n",
    "    \n",
    "    def build_graph(self):\n",
    "        self._init_placeholders()\n",
    "        self._define_embedding()\n",
    "        self.encoding_layer()\n",
    "        self.context_layer()\n",
    "        self.decoding_layer()"
   ]
  },
  {
   "cell_type": "code",
   "execution_count": 9,
   "metadata": {},
   "outputs": [],
   "source": [
    "a = HierarchicalAgent(vocab=parser.vocab,\n",
    "              max_iter=train_iterations,\n",
    "              eta=learning_rate,\n",
    "              max_input_length=max_input_length,\n",
    "              max_output_length=max_output_length,\n",
    "              hidden_dim=64)"
   ]
  },
  {
   "cell_type": "code",
   "execution_count": 62,
   "metadata": {},
   "outputs": [],
   "source": [
    "a._init_placeholders()"
   ]
  },
  {
   "cell_type": "code",
   "execution_count": 63,
   "metadata": {},
   "outputs": [],
   "source": [
    "a._define_embedding()"
   ]
  },
  {
   "cell_type": "code",
   "execution_count": null,
   "metadata": {},
   "outputs": [],
   "source": []
  }
 ],
 "metadata": {
  "kernelspec": {
   "display_name": "Python 3",
   "language": "python",
   "name": "python3"
  },
  "language_info": {
   "codemirror_mode": {
    "name": "ipython",
    "version": 3
   },
   "file_extension": ".py",
   "mimetype": "text/x-python",
   "name": "python",
   "nbconvert_exporter": "python",
   "pygments_lexer": "ipython3",
   "version": "3.6.5"
  }
 },
 "nbformat": 4,
 "nbformat_minor": 2
}
